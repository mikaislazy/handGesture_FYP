{
 "cells": [
  {
   "cell_type": "markdown",
   "metadata": {},
   "source": [
    "# Init Step"
   ]
  },
  {
   "cell_type": "markdown",
   "metadata": {},
   "source": [
    "## import library"
   ]
  },
  {
   "cell_type": "code",
   "execution_count": 1,
   "metadata": {},
   "outputs": [
    {
     "name": "stdout",
     "output_type": "stream",
     "text": [
      "WARNING:tensorflow:From c:\\Users\\mkhung6\\AppData\\Local\\anaconda3\\envs\\mediapipe\\lib\\site-packages\\keras\\src\\losses.py:2976: The name tf.losses.sparse_softmax_cross_entropy is deprecated. Please use tf.compat.v1.losses.sparse_softmax_cross_entropy instead.\n",
      "\n"
     ]
    }
   ],
   "source": [
    "import tensorflow as tf\n",
    "import keras as K\n",
    "from keras.preprocessing.image import ImageDataGenerator\n",
    "from pathlib import Path\n",
    "import os\n",
    "import pathlib\n",
    "import utils"
   ]
  },
  {
   "cell_type": "markdown",
   "metadata": {},
   "source": [
    "## variables"
   ]
  },
  {
   "cell_type": "code",
   "execution_count": 2,
   "metadata": {},
   "outputs": [],
   "source": [
    "height, width = 224, 224\n",
    "fps = 4\n",
    "n_classes = 9\n",
    "# savePath = \"./data/cropHand_fps4/\"\n",
    "splitedFolder = \"color_fps4_hand_splited_dataset\"\n",
    "\n"
   ]
  },
  {
   "cell_type": "markdown",
   "metadata": {},
   "source": [
    "# Preprocessing of images dataset"
   ]
  },
  {
   "cell_type": "code",
   "execution_count": 3,
   "metadata": {},
   "outputs": [
    {
     "name": "stdout",
     "output_type": "stream",
     "text": [
      "current dir: c:\\Users\\mkhung6\\Desktop\\FYP\\handGesture_FYP\\model\n"
     ]
    }
   ],
   "source": [
    "import os\n",
    "cwd = os.getcwd()\n",
    "print(\"current dir: {}\".format(cwd))"
   ]
  },
  {
   "cell_type": "code",
   "execution_count": 4,
   "metadata": {},
   "outputs": [],
   "source": [
    "# directory of the images dataset\n",
    "base_dir = Path('../data')\n",
    "data_dir = base_dir/ splitedFolder\n",
    "train_dir = data_dir/'train'\n",
    "val_dir = data_dir/'val'\n",
    "test_dir = data_dir/'test'\n",
    "\n",
    "# variable for model parameter \n",
    "n_epochs = 15\n",
    "n_train_samples = utils.count_jpgs(train_dir)\n",
    "n_val_samples = utils.count_jpgs(val_dir)\n",
    "batch_size = 32"
   ]
  },
  {
   "cell_type": "code",
   "execution_count": 5,
   "metadata": {},
   "outputs": [
    {
     "name": "stdout",
     "output_type": "stream",
     "text": [
      "Found 7924 images belonging to 9 classes.\n",
      "Found 2643 images belonging to 9 classes.\n",
      "Found 2630 images belonging to 9 classes.\n"
     ]
    }
   ],
   "source": [
    "# data augmentation for the training set\n",
    "train_datagen = ImageDataGenerator(rescale=1./255,\n",
    "                                   width_shift_range=0.1,\n",
    "                                   height_shift_range=0.1,\n",
    "                                   horizontal_flip=False,\n",
    "                                   vertical_flip=False,\n",
    "                                   brightness_range=[0.8, 1.2],\n",
    "                                   fill_mode='nearest')\n",
    "train_generator = train_datagen.flow_from_directory(train_dir, target_size=(height,width))\n",
    "val_generator = train_datagen.flow_from_directory(val_dir, target_size=(height,width))\n",
    "\n",
    "test_datagen = ImageDataGenerator(rescale=1./255) #use the original image for testing\n",
    "test_generator = test_datagen.flow_from_directory(test_dir, target_size=(height,width))"
   ]
  },
  {
   "cell_type": "code",
   "execution_count": 6,
   "metadata": {},
   "outputs": [
    {
     "name": "stdout",
     "output_type": "stream",
     "text": [
      "WARNING:tensorflow:From c:\\Users\\mkhung6\\AppData\\Local\\anaconda3\\envs\\mediapipe\\lib\\site-packages\\keras\\src\\backend.py:1398: The name tf.executing_eagerly_outside_functions is deprecated. Please use tf.compat.v1.executing_eagerly_outside_functions instead.\n",
      "\n",
      "WARNING:tensorflow:From c:\\Users\\mkhung6\\AppData\\Local\\anaconda3\\envs\\mediapipe\\lib\\site-packages\\keras\\src\\layers\\pooling\\max_pooling2d.py:161: The name tf.nn.max_pool is deprecated. Please use tf.nn.max_pool2d instead.\n",
      "\n",
      "per-trained model has been loaded\n",
      "Model: \"vgg16\"\n",
      "_________________________________________________________________\n",
      " Layer (type)                Output Shape              Param #   \n",
      "=================================================================\n",
      " input_1 (InputLayer)        [(None, 224, 224, 3)]     0         \n",
      "                                                                 \n",
      " block1_conv1 (Conv2D)       (None, 224, 224, 64)      1792      \n",
      "                                                                 \n",
      " block1_conv2 (Conv2D)       (None, 224, 224, 64)      36928     \n",
      "                                                                 \n",
      " block1_pool (MaxPooling2D)  (None, 112, 112, 64)      0         \n",
      "                                                                 \n",
      " block2_conv1 (Conv2D)       (None, 112, 112, 128)     73856     \n",
      "                                                                 \n",
      " block2_conv2 (Conv2D)       (None, 112, 112, 128)     147584    \n",
      "                                                                 \n",
      " block2_pool (MaxPooling2D)  (None, 56, 56, 128)       0         \n",
      "                                                                 \n",
      " block3_conv1 (Conv2D)       (None, 56, 56, 256)       295168    \n",
      "                                                                 \n",
      " block3_conv2 (Conv2D)       (None, 56, 56, 256)       590080    \n",
      "                                                                 \n",
      " block3_conv3 (Conv2D)       (None, 56, 56, 256)       590080    \n",
      "                                                                 \n",
      " block3_pool (MaxPooling2D)  (None, 28, 28, 256)       0         \n",
      "                                                                 \n",
      " block4_conv1 (Conv2D)       (None, 28, 28, 512)       1180160   \n",
      "                                                                 \n",
      " block4_conv2 (Conv2D)       (None, 28, 28, 512)       2359808   \n",
      "                                                                 \n",
      " block4_conv3 (Conv2D)       (None, 28, 28, 512)       2359808   \n",
      "                                                                 \n",
      " block4_pool (MaxPooling2D)  (None, 14, 14, 512)       0         \n",
      "                                                                 \n",
      " block5_conv1 (Conv2D)       (None, 14, 14, 512)       2359808   \n",
      "                                                                 \n",
      " block5_conv2 (Conv2D)       (None, 14, 14, 512)       2359808   \n",
      "                                                                 \n",
      " block5_conv3 (Conv2D)       (None, 14, 14, 512)       2359808   \n",
      "                                                                 \n",
      " block5_pool (MaxPooling2D)  (None, 7, 7, 512)         0         \n",
      "                                                                 \n",
      "=================================================================\n",
      "Total params: 14714688 (56.13 MB)\n",
      "Trainable params: 0 (0.00 Byte)\n",
      "Non-trainable params: 14714688 (56.13 MB)\n",
      "_________________________________________________________________\n"
     ]
    }
   ],
   "source": [
    "import utils\n",
    "from keras.applications import VGG16\n",
    "# load pretrained model and weights\n",
    "conv_layers = VGG16(weights = 'imagenet', include_top=False, input_shape=(height,width,3))\n",
    "conv_layers.trainable = False\n",
    "print('per-trained model has been loaded')\n",
    "conv_layers.summary()"
   ]
  },
  {
   "cell_type": "code",
   "execution_count": 7,
   "metadata": {},
   "outputs": [
    {
     "name": "stdout",
     "output_type": "stream",
     "text": [
      "Model: \"sequential\"\n",
      "_________________________________________________________________\n",
      " Layer (type)                Output Shape              Param #   \n",
      "=================================================================\n",
      " vgg16 (Functional)          (None, 7, 7, 512)         14714688  \n",
      "                                                                 \n",
      " flatten (Flatten)           (None, 25088)             0         \n",
      "                                                                 \n",
      " dense (Dense)               (None, 256)               6422784   \n",
      "                                                                 \n",
      " dropout (Dropout)           (None, 256)               0         \n",
      "                                                                 \n",
      " dense_1 (Dense)             (None, 256)               65792     \n",
      "                                                                 \n",
      " dropout_1 (Dropout)         (None, 256)               0         \n",
      "                                                                 \n",
      " dense_2 (Dense)             (None, 9)                 2313      \n",
      "                                                                 \n",
      "=================================================================\n",
      "Total params: 21205577 (80.89 MB)\n",
      "Trainable params: 6490889 (24.76 MB)\n",
      "Non-trainable params: 14714688 (56.13 MB)\n",
      "_________________________________________________________________\n"
     ]
    }
   ],
   "source": [
    "# pretraind model\n",
    "model = K.models.Sequential()\n",
    "model.add(conv_layers)\n",
    "model.add(K.layers.Flatten())\n",
    "\n",
    "# new layers\n",
    "model.add(K.layers.Dense(256, activation='relu')) \n",
    "model.add(K.layers.Dropout(0.5)) # dropout layer to reduce overfitting\n",
    "model.add(K.layers.Dense(256, activation='relu'))\n",
    "model.add(K.layers.Dropout(0.5))\n",
    "\n",
    "model.add(K.layers.Dense(n_classes, activation='softmax'))\n",
    "model.summary()"
   ]
  },
  {
   "cell_type": "code",
   "execution_count": 8,
   "metadata": {},
   "outputs": [
    {
     "name": "stdout",
     "output_type": "stream",
     "text": [
      "WARNING:tensorflow:From c:\\Users\\mkhung6\\AppData\\Local\\anaconda3\\envs\\mediapipe\\lib\\site-packages\\keras\\src\\optimizers\\__init__.py:309: The name tf.train.Optimizer is deprecated. Please use tf.compat.v1.train.Optimizer instead.\n",
      "\n",
      "Epoch 1/15\n",
      "WARNING:tensorflow:From c:\\Users\\mkhung6\\AppData\\Local\\anaconda3\\envs\\mediapipe\\lib\\site-packages\\keras\\src\\utils\\tf_utils.py:492: The name tf.ragged.RaggedTensorValue is deprecated. Please use tf.compat.v1.ragged.RaggedTensorValue instead.\n",
      "\n",
      "WARNING:tensorflow:From c:\\Users\\mkhung6\\AppData\\Local\\anaconda3\\envs\\mediapipe\\lib\\site-packages\\keras\\src\\engine\\base_layer_utils.py:384: The name tf.executing_eagerly_outside_functions is deprecated. Please use tf.compat.v1.executing_eagerly_outside_functions instead.\n",
      "\n",
      "247/247 - 563s - loss: 0.9713 - acc: 0.6647 - val_loss: 0.0409 - val_acc: 0.9970 - 563s/epoch - 2s/step\n",
      "Epoch 2/15\n",
      "247/247 - 559s - loss: 0.4074 - acc: 0.8454 - val_loss: 0.0137 - val_acc: 0.9970 - 559s/epoch - 2s/step\n",
      "Epoch 3/15\n",
      "247/247 - 551s - loss: 0.3361 - acc: 0.8694 - val_loss: 0.0098 - val_acc: 0.9996 - 551s/epoch - 2s/step\n",
      "Epoch 4/15\n",
      "247/247 - 550s - loss: 0.3242 - acc: 0.8703 - val_loss: 0.0051 - val_acc: 0.9996 - 550s/epoch - 2s/step\n",
      "Epoch 5/15\n",
      "247/247 - 549s - loss: 0.3354 - acc: 0.8694 - val_loss: 0.0062 - val_acc: 0.9985 - 549s/epoch - 2s/step\n",
      "Epoch 6/15\n",
      "247/247 - 551s - loss: 0.2943 - acc: 0.8825 - val_loss: 0.0084 - val_acc: 0.9977 - 551s/epoch - 2s/step\n",
      "Epoch 7/15\n",
      "247/247 - 549s - loss: 0.2776 - acc: 0.8901 - val_loss: 0.0080 - val_acc: 0.9985 - 549s/epoch - 2s/step\n",
      "Epoch 8/15\n",
      "247/247 - 549s - loss: 0.2721 - acc: 0.8915 - val_loss: 0.0062 - val_acc: 0.9989 - 549s/epoch - 2s/step\n",
      "Epoch 9/15\n",
      "247/247 - 548s - loss: 0.2849 - acc: 0.8912 - val_loss: 0.0022 - val_acc: 0.9996 - 548s/epoch - 2s/step\n",
      "Epoch 10/15\n",
      "247/247 - 549s - loss: 0.2767 - acc: 0.8932 - val_loss: 0.0046 - val_acc: 0.9989 - 549s/epoch - 2s/step\n",
      "Epoch 11/15\n",
      "247/247 - 548s - loss: 0.2760 - acc: 0.8886 - val_loss: 0.0028 - val_acc: 0.9996 - 548s/epoch - 2s/step\n",
      "Epoch 12/15\n",
      "247/247 - 549s - loss: 0.2477 - acc: 0.9070 - val_loss: 0.0053 - val_acc: 0.9985 - 549s/epoch - 2s/step\n",
      "Epoch 13/15\n",
      "247/247 - 548s - loss: 0.2213 - acc: 0.9147 - val_loss: 0.0031 - val_acc: 1.0000 - 548s/epoch - 2s/step\n",
      "Epoch 14/15\n",
      "247/247 - 547s - loss: 0.2474 - acc: 0.9036 - val_loss: 0.0029 - val_acc: 1.0000 - 547s/epoch - 2s/step\n",
      "Epoch 15/15\n",
      "247/247 - 548s - loss: 0.2336 - acc: 0.9109 - val_loss: 0.0032 - val_acc: 0.9996 - 548s/epoch - 2s/step\n"
     ]
    }
   ],
   "source": [
    "model.compile(loss='categorical_crossentropy', optimizer='adam', metrics=['acc'])\n",
    "history = model.fit(train_generator,\n",
    "                    steps_per_epoch=n_train_samples/batch_size,\n",
    "                    epochs=n_epochs,\n",
    "                    validation_data=val_generator,\n",
    "                    validation_steps=n_val_samples/batch_size,\n",
    "                    verbose=2,\n",
    "                    shuffle=True,\n",
    "                    )"
   ]
  },
  {
   "cell_type": "code",
   "execution_count": 9,
   "metadata": {},
   "outputs": [
    {
     "name": "stderr",
     "output_type": "stream",
     "text": [
      "c:\\Users\\mkhung6\\AppData\\Local\\anaconda3\\envs\\mediapipe\\lib\\site-packages\\keras\\src\\engine\\training.py:3103: UserWarning: You are saving your model as an HDF5 file via `model.save()`. This file format is considered legacy. We recommend using instead the native Keras format, e.g. `model.save('my_model.keras')`.\n",
      "  saving_api.save_model(\n"
     ]
    }
   ],
   "source": [
    "model.save(splitedFolder + \".h5\")"
   ]
  },
  {
   "cell_type": "markdown",
   "metadata": {},
   "source": [
    "# show the accuracy of the model"
   ]
  },
  {
   "cell_type": "code",
   "execution_count": 10,
   "metadata": {},
   "outputs": [
    {
     "data": {
      "image/png": "[encoded data removed]",
      "text/plain": [
       "<Figure size 640x480 with 1 Axes>"
      ]
     },
     "metadata": {},
     "output_type": "display_data"
    },
    {
     "data": {
      "image/png": "[encoded data removed]",
      "text/plain": [
       "<Figure size 640x480 with 1 Axes>"
      ]
     },
     "metadata": {},
     "output_type": "display_data"
    }
   ],
   "source": [
    "%matplotlib inline\n",
    "import matplotlib.pyplot as plt\n",
    "\n",
    "acc = history.history['acc']\n",
    "val_acc = history.history['val_acc']\n",
    "loss = history.history['loss']\n",
    "val_loss = history.history['val_loss']\n",
    "epochs = range(len(acc))\n",
    "\n",
    "plt.plot(epochs, acc, label='Training accuracy')\n",
    "plt.plot(epochs, val_acc, label='Validation accuracy')\n",
    "plt.title('Training and validation accuracy')\n",
    "plt.legend()\n",
    "\n",
    "plt.figure()\n",
    "plt.plot(epochs, loss, label='Training loss')\n",
    "plt.plot(epochs, val_loss, label='Validation loss')\n",
    "plt.title('Training and validation loss')\n",
    "plt.legend()\n",
    "\n",
    "plt.show()"
   ]
  },
  {
   "cell_type": "code",
   "execution_count": 11,
   "metadata": {},
   "outputs": [
    {
     "name": "stdout",
     "output_type": "stream",
     "text": [
      "{0: 'ChanDingYin', 1: 'HuoYanYin', 2: 'MiTuoDingYin', 3: 'Retsu', 4: 'Rin', 5: 'TaiJiYin', 6: 'Zai', 7: 'Zen', 8: 'ZhiJiXiangYin'}\n"
     ]
    }
   ],
   "source": [
    "import utils\n",
    "import json\n",
    "class_indices = train_generator.class_indices\n",
    "class_indices = {v: k for k, v in class_indices.items()}\n",
    "print(class_indices)\n",
    "config = {\n",
    "        'indices': class_indices, \n",
    "        'input_size': (height, width)\n",
    "    }\n",
    "fp = splitedFolder + '.json'\n",
    "with open(fp, 'w', encoding='UTF-8') as f:\n",
    "    json.dump(config, f,ensure_ascii=False)"
   ]
  },
  {
   "cell_type": "code",
   "execution_count": 12,
   "metadata": {},
   "outputs": [
    {
     "name": "stdout",
     "output_type": "stream",
     "text": [
      "current dir: c:\\Users\\mkhung6\\Desktop\\FYP\\handGesture_FYP\\model\n",
      "82/82 [==============================] - 128s 2s/step - loss: 9.1647e-04 - acc: 1.0000\n",
      "test acc: 1.0000\n",
      "82/82 [==============================] - 129s 2s/step\n",
      "[[31 33 30 42 23 41 24 27 46]\n",
      " [44 37 43 36 20 37 41 31 49]\n",
      " [51 38 43 34 28 38 32 29 35]\n",
      " [23 41 24 19 27 37 28 24 38]\n",
      " [21 29 37 20 24 35 21 30 18]\n",
      " [30 52 45 41 37 43 27 30 37]\n",
      " [26 31 36 17 30 33 34 27 29]\n",
      " [34 32 30 27 24 31 23 14 32]\n",
      " [37 45 40 25 22 47 33 35 35]]\n"
     ]
    }
   ],
   "source": [
    "import numpy as np\n",
    "from sklearn.metrics import confusion_matrix\n",
    "#test the accuracy on test set\n",
    "cwd = os.getcwd()\n",
    "print(\"current dir: {}\".format(cwd))\n",
    "\n",
    "model = tf.keras.models.load_model(splitedFolder+\".h5\")\n",
    "n_test_set = utils.count_jpgs(test_dir)\n",
    "_, test_acc = model.evaluate(test_generator, steps=n_test_set/batch_size)\n",
    "print('test acc: {:.4f}'.format(test_acc))\n",
    "\n",
    "#calculate the confusion matrix of the model on test set\n",
    "y_true = test_generator.classes\n",
    "# Use the model to predict the labels of the test set\n",
    "y_pred = model.predict(test_generator, steps=n_test_set/batch_size)\n",
    "# Convert predictions to label indices\n",
    "y_pred = np.argmax(y_pred, axis=1)\n",
    "\n",
    "# Calculate the confusion matrix of prediction and actual class\n",
    "cm = confusion_matrix(y_true, y_pred)\n",
    "\n",
    "print(cm)\n",
    "\n"
   ]
  },
  {
   "cell_type": "code",
   "execution_count": 13,
   "metadata": {},
   "outputs": [],
   "source": [
    "import utils\n",
    "import json\n",
    "import pandas as pd\n",
    "class_indices = train_generator.class_indices\n",
    "class_indices = {v: k for k, v in class_indices.items()}\n",
    "# hist_df = pd.DataFrame(history.history)\n",
    "\n",
    "config = {\n",
    "        'indices': class_indices, \n",
    "        'input_size': (height, width),\n",
    "        'confusion_matrix': np.array2string(cm),\n",
    "        'test_acc': test_acc,\n",
    "        'history':history.history\n",
    "        \n",
    "    }\n",
    "\n",
    "fp = splitedFolder + '.json'\n",
    "with open(fp, 'w', encoding='UTF-8') as f:\n",
    "    json.dump(config, f,ensure_ascii=False)\n",
    "    # hist_df.to_json(f)\n",
    "    "
   ]
  }
 ],
 "metadata": {
  "kernelspec": {
   "display_name": "Python 3",
   "language": "python",
   "name": "python3"
  },
  "language_info": {
   "codemirror_mode": {
    "name": "ipython",
    "version": 3
   },
   "file_extension": ".py",
   "mimetype": "text/x-python",
   "name": "python",
   "nbconvert_exporter": "python",
   "pygments_lexer": "ipython3",
   "version": "3.9.18"
  }
 },
 "nbformat": 4,
 "nbformat_minor": 2
}
