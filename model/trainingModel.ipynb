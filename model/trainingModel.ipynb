{
 "cells": [
  {
   "cell_type": "markdown",
   "metadata": {},
   "source": [
    "# Init Step"
   ]
  },
  {
   "cell_type": "markdown",
   "metadata": {},
   "source": [
    "## import library"
   ]
  },
  {
   "cell_type": "code",
   "execution_count": 1,
   "metadata": {},
   "outputs": [
    {
     "name": "stderr",
     "output_type": "stream",
     "text": [
      "2024-06-08 22:15:15.608802: I tensorflow/core/platform/cpu_feature_guard.cc:182] This TensorFlow binary is optimized to use available CPU instructions in performance-critical operations.\n",
      "To enable the following instructions: AVX2 FMA, in other operations, rebuild TensorFlow with the appropriate compiler flags.\n"
     ]
    }
   ],
   "source": [
    "import tensorflow as tf\n",
    "import keras as K\n",
    "from keras.preprocessing.image import ImageDataGenerator\n",
    "from pathlib import Path\n",
    "import os\n",
    "import pathlib\n",
    "import utils"
   ]
  },
  {
   "cell_type": "markdown",
   "metadata": {},
   "source": [
    "## variables"
   ]
  },
  {
   "cell_type": "code",
   "execution_count": 2,
   "metadata": {},
   "outputs": [],
   "source": [
    "height, width = 224, 224\n",
    "fps = 4\n",
    "n_classes = 9\n",
    "# savePath = \"./data/cropHand_fps4/\"\n",
    "splitedFolder = \"color_fps4_splited_dataset\"\n",
    "\n"
   ]
  },
  {
   "cell_type": "markdown",
   "metadata": {},
   "source": [
    "# Preprocessing of images dataset"
   ]
  },
  {
   "cell_type": "code",
   "execution_count": 3,
   "metadata": {},
   "outputs": [
    {
     "name": "stdout",
     "output_type": "stream",
     "text": [
      "current dir: /Users/mika/FYP/development/handGesture_FYP/model\n"
     ]
    }
   ],
   "source": [
    "import os\n",
    "cwd = os.getcwd()\n",
    "print(\"current dir: {}\".format(cwd))"
   ]
  },
  {
   "cell_type": "code",
   "execution_count": 4,
   "metadata": {},
   "outputs": [],
   "source": [
    "# directory of the images dataset\n",
    "base_dir = Path('../data')\n",
    "data_dir = base_dir/ splitedFolder\n",
    "train_dir = data_dir/'train'\n",
    "val_dir = data_dir/'val'\n",
    "test_dir = data_dir/'test'\n",
    "\n",
    "# variable for model parameter \n",
    "n_epochs = 11\n",
    "n_train_samples = utils.count_jpgs(train_dir)\n",
    "n_val_samples = utils.count_jpgs(val_dir)\n",
    "batch_size = 32"
   ]
  },
  {
   "cell_type": "code",
   "execution_count": 5,
   "metadata": {},
   "outputs": [
    {
     "name": "stdout",
     "output_type": "stream",
     "text": [
      "Found 9838 images belonging to 9 classes.\n",
      "Found 3282 images belonging to 9 classes.\n",
      "Found 3273 images belonging to 9 classes.\n"
     ]
    }
   ],
   "source": [
    "# data augmentation for the training set\n",
    "train_datagen = ImageDataGenerator(rescale=1./255,\n",
    "                                   width_shift_range=0.1,\n",
    "                                   height_shift_range=0.1,\n",
    "                                   horizontal_flip=False,\n",
    "                                   vertical_flip=False,\n",
    "                                   brightness_range=[0.8, 1.2],\n",
    "                                   fill_mode='nearest')\n",
    "train_generator = train_datagen.flow_from_directory(train_dir, target_size=(height,width))\n",
    "val_generator = train_datagen.flow_from_directory(val_dir, target_size=(height,width))\n",
    "\n",
    "test_datagen = ImageDataGenerator(rescale=1./255) #use the original image for testing\n",
    "test_generator = test_datagen.flow_from_directory(test_dir, target_size=(height,width))"
   ]
  },
  {
   "cell_type": "code",
   "execution_count": 6,
   "metadata": {},
   "outputs": [
    {
     "name": "stdout",
     "output_type": "stream",
     "text": [
      "WARNING:tensorflow:From c:\\Users\\mkhung6\\AppData\\Local\\anaconda3\\envs\\mediapipe\\lib\\site-packages\\keras\\src\\backend.py:1398: The name tf.executing_eagerly_outside_functions is deprecated. Please use tf.compat.v1.executing_eagerly_outside_functions instead.\n",
      "\n",
      "WARNING:tensorflow:From c:\\Users\\mkhung6\\AppData\\Local\\anaconda3\\envs\\mediapipe\\lib\\site-packages\\keras\\src\\layers\\pooling\\max_pooling2d.py:161: The name tf.nn.max_pool is deprecated. Please use tf.nn.max_pool2d instead.\n",
      "\n",
      "per-trained model has been loaded\n",
      "Model: \"vgg16\"\n",
      "_________________________________________________________________\n",
      " Layer (type)                Output Shape              Param #   \n",
      "=================================================================\n",
      " input_1 (InputLayer)        [(None, 224, 224, 3)]     0         \n",
      "                                                                 \n",
      " block1_conv1 (Conv2D)       (None, 224, 224, 64)      1792      \n",
      "                                                                 \n",
      " block1_conv2 (Conv2D)       (None, 224, 224, 64)      36928     \n",
      "                                                                 \n",
      " block1_pool (MaxPooling2D)  (None, 112, 112, 64)      0         \n",
      "                                                                 \n",
      " block2_conv1 (Conv2D)       (None, 112, 112, 128)     73856     \n",
      "                                                                 \n",
      " block2_conv2 (Conv2D)       (None, 112, 112, 128)     147584    \n",
      "                                                                 \n",
      " block2_pool (MaxPooling2D)  (None, 56, 56, 128)       0         \n",
      "                                                                 \n",
      " block3_conv1 (Conv2D)       (None, 56, 56, 256)       295168    \n",
      "                                                                 \n",
      " block3_conv2 (Conv2D)       (None, 56, 56, 256)       590080    \n",
      "                                                                 \n",
      " block3_conv3 (Conv2D)       (None, 56, 56, 256)       590080    \n",
      "                                                                 \n",
      " block3_pool (MaxPooling2D)  (None, 28, 28, 256)       0         \n",
      "                                                                 \n",
      " block4_conv1 (Conv2D)       (None, 28, 28, 512)       1180160   \n",
      "                                                                 \n",
      " block4_conv2 (Conv2D)       (None, 28, 28, 512)       2359808   \n",
      "                                                                 \n",
      " block4_conv3 (Conv2D)       (None, 28, 28, 512)       2359808   \n",
      "                                                                 \n",
      " block4_pool (MaxPooling2D)  (None, 14, 14, 512)       0         \n",
      "                                                                 \n",
      " block5_conv1 (Conv2D)       (None, 14, 14, 512)       2359808   \n",
      "                                                                 \n",
      " block5_conv2 (Conv2D)       (None, 14, 14, 512)       2359808   \n",
      "                                                                 \n",
      " block5_conv3 (Conv2D)       (None, 14, 14, 512)       2359808   \n",
      "                                                                 \n",
      " block5_pool (MaxPooling2D)  (None, 7, 7, 512)         0         \n",
      "                                                                 \n",
      "=================================================================\n",
      "Total params: 14714688 (56.13 MB)\n",
      "Trainable params: 0 (0.00 Byte)\n",
      "Non-trainable params: 14714688 (56.13 MB)\n",
      "_________________________________________________________________\n"
     ]
    }
   ],
   "source": [
    "import utils\n",
    "from keras.applications import VGG16\n",
    "# load pretrained model and weights\n",
    "conv_layers = VGG16(weights = 'imagenet', include_top=False, input_shape=(height,width,3))\n",
    "conv_layers.trainable = False\n",
    "print('per-trained model has been loaded')\n",
    "conv_layers.summary()"
   ]
  },
  {
   "cell_type": "code",
   "execution_count": 7,
   "metadata": {},
   "outputs": [
    {
     "name": "stdout",
     "output_type": "stream",
     "text": [
      "Model: \"sequential\"\n",
      "_________________________________________________________________\n",
      " Layer (type)                Output Shape              Param #   \n",
      "=================================================================\n",
      " vgg16 (Functional)          (None, 7, 7, 512)         14714688  \n",
      "                                                                 \n",
      " flatten (Flatten)           (None, 25088)             0         \n",
      "                                                                 \n",
      " dense (Dense)               (None, 256)               6422784   \n",
      "                                                                 \n",
      " dropout (Dropout)           (None, 256)               0         \n",
      "                                                                 \n",
      " dense_1 (Dense)             (None, 256)               65792     \n",
      "                                                                 \n",
      " dropout_1 (Dropout)         (None, 256)               0         \n",
      "                                                                 \n",
      " dense_2 (Dense)             (None, 9)                 2313      \n",
      "                                                                 \n",
      "=================================================================\n",
      "Total params: 21205577 (80.89 MB)\n",
      "Trainable params: 6490889 (24.76 MB)\n",
      "Non-trainable params: 14714688 (56.13 MB)\n",
      "_________________________________________________________________\n"
     ]
    }
   ],
   "source": [
    "# pretraind model\n",
    "model = K.models.Sequential()\n",
    "model.add(conv_layers)\n",
    "model.add(K.layers.Flatten())\n",
    "\n",
    "# new layers\n",
    "model.add(K.layers.Dense(256, activation='relu')) \n",
    "model.add(K.layers.Dropout(0.5)) # dropout layer to reduce overfitting\n",
    "model.add(K.layers.Dense(256, activation='relu'))\n",
    "model.add(K.layers.Dropout(0.5))\n",
    "\n",
    "model.add(K.layers.Dense(n_classes, activation='softmax'))\n",
    "model.summary()"
   ]
  },
  {
   "cell_type": "code",
   "execution_count": 8,
   "metadata": {},
   "outputs": [
    {
     "name": "stdout",
     "output_type": "stream",
     "text": [
      "WARNING:tensorflow:From c:\\Users\\mkhung6\\AppData\\Local\\anaconda3\\envs\\mediapipe\\lib\\site-packages\\keras\\src\\optimizers\\__init__.py:309: The name tf.train.Optimizer is deprecated. Please use tf.compat.v1.train.Optimizer instead.\n",
      "\n",
      "Epoch 1/11\n",
      "WARNING:tensorflow:From c:\\Users\\mkhung6\\AppData\\Local\\anaconda3\\envs\\mediapipe\\lib\\site-packages\\keras\\src\\utils\\tf_utils.py:492: The name tf.ragged.RaggedTensorValue is deprecated. Please use tf.compat.v1.ragged.RaggedTensorValue instead.\n",
      "\n",
      "WARNING:tensorflow:From c:\\Users\\mkhung6\\AppData\\Local\\anaconda3\\envs\\mediapipe\\lib\\site-packages\\keras\\src\\engine\\base_layer_utils.py:384: The name tf.executing_eagerly_outside_functions is deprecated. Please use tf.compat.v1.executing_eagerly_outside_functions instead.\n",
      "\n",
      "249/249 - 582s - loss: 1.0738 - acc: 0.6260 - val_loss: 0.0402 - val_acc: 0.9944 - 582s/epoch - 2s/step\n",
      "Epoch 2/11\n",
      "249/249 - 574s - loss: 0.4546 - acc: 0.8152 - val_loss: 0.0143 - val_acc: 0.9981 - 574s/epoch - 2s/step\n",
      "Epoch 3/11\n",
      "249/249 - 574s - loss: 0.4182 - acc: 0.8354 - val_loss: 0.0068 - val_acc: 0.9981 - 574s/epoch - 2s/step\n",
      "Epoch 4/11\n",
      "249/249 - 574s - loss: 0.3555 - acc: 0.8564 - val_loss: 0.0140 - val_acc: 0.9966 - 574s/epoch - 2s/step\n",
      "Epoch 5/11\n",
      "249/249 - 575s - loss: 0.3737 - acc: 0.8509 - val_loss: 0.0049 - val_acc: 0.9992 - 575s/epoch - 2s/step\n",
      "Epoch 6/11\n",
      "249/249 - 574s - loss: 0.3517 - acc: 0.8610 - val_loss: 0.0062 - val_acc: 0.9992 - 574s/epoch - 2s/step\n",
      "Epoch 7/11\n",
      "249/249 - 577s - loss: 0.3411 - acc: 0.8658 - val_loss: 0.0046 - val_acc: 0.9996 - 577s/epoch - 2s/step\n",
      "Epoch 8/11\n",
      "249/249 - 572s - loss: 0.3423 - acc: 0.8603 - val_loss: 0.0104 - val_acc: 0.9989 - 572s/epoch - 2s/step\n",
      "Epoch 9/11\n",
      "249/249 - 571s - loss: 0.3291 - acc: 0.8722 - val_loss: 0.0062 - val_acc: 0.9996 - 571s/epoch - 2s/step\n",
      "Epoch 10/11\n",
      "249/249 - 572s - loss: 0.3156 - acc: 0.8725 - val_loss: 0.0042 - val_acc: 0.9996 - 572s/epoch - 2s/step\n",
      "Epoch 11/11\n",
      "249/249 - 572s - loss: 0.3233 - acc: 0.8731 - val_loss: 0.0042 - val_acc: 0.9996 - 572s/epoch - 2s/step\n"
     ]
    }
   ],
   "source": [
    "model.compile(loss='categorical_crossentropy', optimizer='adam', metrics=['acc'])\n",
    "history = model.fit(train_generator,\n",
    "                    steps_per_epoch=n_train_samples/batch_size,\n",
    "                    epochs=n_epochs,\n",
    "                    validation_data=val_generator,\n",
    "                    validation_steps=n_val_samples/batch_size,\n",
    "                    verbose=2,\n",
    "                    shuffle=True,\n",
    "                    )"
   ]
  },
  {
   "cell_type": "code",
   "execution_count": 9,
   "metadata": {},
   "outputs": [
    {
     "name": "stderr",
     "output_type": "stream",
     "text": [
      "c:\\Users\\mkhung6\\AppData\\Local\\anaconda3\\envs\\mediapipe\\lib\\site-packages\\keras\\src\\engine\\training.py:3103: UserWarning: You are saving your model as an HDF5 file via `model.save()`. This file format is considered legacy. We recommend using instead the native Keras format, e.g. `model.save('my_model.keras')`.\n",
      "  saving_api.save_model(\n"
     ]
    }
   ],
   "source": [
    "model.save(splitedFolder + \".h5\")"
   ]
  },
  {
   "cell_type": "markdown",
   "metadata": {},
   "source": [
    "# show the accuracy of the model"
   ]
  },
  {
   "cell_type": "code",
   "execution_count": 14,
   "metadata": {},
   "outputs": [
    {
     "data": {
      "image/png": "[encoded data removed]",
      "text/plain": [
       "<Figure size 640x480 with 1 Axes>"
      ]
     },
     "metadata": {},
     "output_type": "display_data"
    },
    {
     "data": {
      "image/png": "[encoded data removed]",
      "text/plain": [
       "<Figure size 640x480 with 1 Axes>"
      ]
     },
     "metadata": {},
     "output_type": "display_data"
    }
   ],
   "source": [
    "%matplotlib inline\n",
    "import matplotlib.pyplot as plt\n",
    "\n",
    "acc = history.history['acc']\n",
    "val_acc = history.history['val_acc']\n",
    "loss = history.history['loss']\n",
    "val_loss = history.history['val_loss']\n",
    "epochs = range(len(acc))\n",
    "\n",
    "plt.plot(epochs, acc, label='Training accuracy')\n",
    "plt.plot(epochs, val_acc, label='Validation accuracy')\n",
    "plt.title('Training and validation accuracy')\n",
    "plt.legend()\n",
    "\n",
    "plt.figure()\n",
    "plt.plot(epochs, loss, label='Training loss')\n",
    "plt.plot(epochs, val_loss, label='Validation loss')\n",
    "plt.title('Training and validation loss')\n",
    "plt.legend()\n",
    "\n",
    "plt.show()"
   ]
  },
  {
   "cell_type": "code",
   "execution_count": 44,
   "metadata": {},
   "outputs": [
    {
     "name": "stdout",
     "output_type": "stream",
     "text": [
      "{0: 'ChanDingYin', 1: 'HuoYanYin', 2: 'MiTuoDingYin', 3: 'Retsu', 4: 'Rin', 5: 'TaiJiYin', 6: 'Zai', 7: 'Zen', 8: 'ZhiJiXiangYin'}\n"
     ]
    }
   ],
   "source": [
    "import utils\n",
    "import json\n",
    "class_indices = train_generator.class_indices\n",
    "class_indices = {v: k for k, v in class_indices.items()}\n",
    "print(class_indices)\n",
    "config = {\n",
    "        'indices': class_indices, \n",
    "        'input_size': (height, width)\n",
    "    }\n",
    "fp = splitedFolder + '.json'\n",
    "with open(fp, 'w', encoding='UTF-8') as f:\n",
    "    json.dump(config, f,ensure_ascii=False)"
   ]
  },
  {
   "cell_type": "code",
   "execution_count": 7,
   "metadata": {},
   "outputs": [
    {
     "name": "stdout",
     "output_type": "stream",
     "text": [
      "current dir: /Users/mika/FYP/development/handGesture_FYP/model\n",
      "102/102 [==============================] - 456s 4s/step - loss: 0.4737 - acc: 0.8506\n",
      "test acc: 0.8506\n",
      "Found 3273 images belonging to 9 classes.\n",
      "103/103 [==============================] - 446s 4s/step\n",
      "[[293   0   0   0   0  49   0   0  25]\n",
      " [  0 408   0   0   0   0   0   0   0]\n",
      " [  0   1 321   0   0  63   0   0  15]\n",
      " [  0  58   0 256   0   1   0   0  18]\n",
      " [  2  58   2   0 230   2   3   1  10]\n",
      " [  0   0   0   0   0 382   0   0  32]\n",
      " [  0  35   0   0   0   0 291   0   8]\n",
      " [  0  48   0   0   0   4   0 256   9]\n",
      " [  0   0   2   0   0  43   0   0 347]]\n"
     ]
    },
    {
     "data": {
      "image/png": "[encoded data removed]",
      "text/plain": [
       "<Figure size 700x600 with 2 Axes>"
      ]
     },
     "metadata": {},
     "output_type": "display_data"
    },
    {
     "name": "stdout",
     "output_type": "stream",
     "text": [
      "Classification Report\n",
      "              precision    recall  f1-score   support\n",
      "\n",
      "           0       0.99      0.80      0.89       367\n",
      "           1       0.67      1.00      0.80       408\n",
      "           2       0.99      0.80      0.89       400\n",
      "           3       1.00      0.77      0.87       333\n",
      "           4       1.00      0.75      0.86       308\n",
      "           5       0.70      0.92      0.80       414\n",
      "           6       0.99      0.87      0.93       334\n",
      "           7       1.00      0.81      0.89       317\n",
      "           8       0.75      0.89      0.81       392\n",
      "\n",
      "    accuracy                           0.85      3273\n",
      "   macro avg       0.90      0.84      0.86      3273\n",
      "weighted avg       0.89      0.85      0.86      3273\n",
      "\n"
     ]
    }
   ],
   "source": [
    "\n",
    "import numpy as np\n",
    "import pandas as pd\n",
    "import seaborn as sns\n",
    "import matplotlib.pyplot as plt\n",
    "from sklearn.metrics import confusion_matrix, classification_report\n",
    "#test the accuracy on test set\n",
    "cwd = os.getcwd()\n",
    "print(\"current dir: {}\".format(cwd))\n",
    "\n",
    "model = tf.keras.models.load_model(splitedFolder+\".h5\")\n",
    "n_test_set = utils.count_jpgs(test_dir)\n",
    "_, test_acc = model.evaluate(test_generator, steps=n_test_set/batch_size)\n",
    "print('test acc: {:.4f}'.format(test_acc))\n",
    "\n",
    "\n",
    "test_datagen = ImageDataGenerator(rescale=1./255 ) #use the original image for testing\n",
    "test_generator = test_datagen.flow_from_directory(test_dir, target_size=(height,width), shuffle=False)\n",
    "\n",
    "#calculate the confusion matrix of the model on test set\n",
    "y_true = test_generator.classes\n",
    "\n",
    "# Use the model to predict the labels of the test set\n",
    "y_pred = model.predict(test_generator)\n",
    "# Convert predictions to label indices\n",
    "y_pred = np.argmax(y_pred, axis=1)\n",
    "\n",
    "# Calculate the confusion matrix of prediction and actual class\n",
    "cm = confusion_matrix(y_true, y_pred)\n",
    "\n",
    "print(cm)\n",
    "labels = train_generator.class_indices.values()\n",
    "df_cmx = pd.DataFrame(cm, index=labels, columns=labels)\n",
    " \n",
    "fig, ax = plt.subplots(figsize=(7, 6))\n",
    "sns.heatmap(df_cmx, annot=True, fmt='g' ,square=False)\n",
    "ax.set_ylim(len(set(y_true)), 0)\n",
    "plt.show()\n",
    "\n",
    "\n",
    "print('Classification Report')\n",
    "print(classification_report(y_true, y_pred))\n",
    "\n",
    "\n"
   ]
  },
  {
   "cell_type": "code",
   "execution_count": 10,
   "metadata": {},
   "outputs": [
    {
     "name": "stdout",
     "output_type": "stream",
     "text": [
      "The number image in test set of ChanDingYin is: 367\n",
      "The number image in test set of HuoYanYin is: 408\n",
      "The number image in test set of MiTuoDingYin is: 400\n",
      "The number image in test set of Retsu is: 333\n",
      "The number image in test set of Rin is: 308\n",
      "The number image in test set of TaiJiYin is: 414\n",
      "The number image in test set of Zai is: 334\n",
      "The number image in test set of Zen is: 317\n",
      "The number image in test set of ZhiJiXiangYin is: 392\n"
     ]
    }
   ],
   "source": [
    "import utils\n",
    "GESTURES = {\n",
    "        \"0\": \"ChanDingYin\",\n",
    "        \"1\": \"HuoYanYin\",\n",
    "        \"2\": \"MiTuoDingYin\",\n",
    "        \"3\": \"Retsu\",\n",
    "        \"4\": \"Rin\",\n",
    "        \"5\": \"TaiJiYin\",\n",
    "        \"6\": \"Zai\",\n",
    "        \"7\": \"Zen\",\n",
    "        \"8\": \"ZhiJiXiangYin\"}\n",
    "for g in GESTURES.values():\n",
    "    num = utils.count_jpgs(test_dir/g)\n",
    "    print(f\"The number image in test set of {g} is:\", num)\n",
    "\n"
   ]
  },
  {
   "cell_type": "code",
   "execution_count": null,
   "metadata": {},
   "outputs": [],
   "source": []
  },
  {
   "cell_type": "code",
   "execution_count": null,
   "metadata": {},
   "outputs": [],
   "source": []
  },
  {
   "cell_type": "code",
   "execution_count": null,
   "metadata": {},
   "outputs": [],
   "source": []
  },
  {
   "cell_type": "code",
   "execution_count": 55,
   "metadata": {},
   "outputs": [],
   "source": [
    "import utils\n",
    "import json\n",
    "import pandas as pd\n",
    "class_indices = train_generator.class_indices\n",
    "class_indices = {v: k for k, v in class_indices.items()}\n",
    "# hist_df = pd.DataFrame(history.history)\n",
    "\n",
    "config = {\n",
    "        'indices': class_indices, \n",
    "        'input_size': (height, width),\n",
    "        'confusion_matrix': np.array2string(cm),\n",
    "        'test_acc': test_acc,\n",
    "        'history':history.history\n",
    "        \n",
    "    }\n",
    "\n",
    "fp = splitedFolder + '.json'\n",
    "with open(fp, 'w', encoding='UTF-8') as f:\n",
    "    json.dump(config, f,ensure_ascii=False)\n",
    "    # hist_df.to_json(f)\n",
    "    "
   ]
  }
 ],
 "metadata": {
  "kernelspec": {
   "display_name": "Python 3",
   "language": "python",
   "name": "python3"
  },
  "language_info": {
   "codemirror_mode": {
    "name": "ipython",
    "version": 3
   },
   "file_extension": ".py",
   "mimetype": "text/x-python",
   "name": "python",
   "nbconvert_exporter": "python",
   "pygments_lexer": "ipython3",
   "version": "3.9.18"
  }
 },
 "nbformat": 4,
 "nbformat_minor": 2
}
