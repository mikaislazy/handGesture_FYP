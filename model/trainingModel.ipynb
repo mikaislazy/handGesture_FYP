{
 "cells": [
  {
   "cell_type": "markdown",
   "metadata": {},
   "source": [
    "# Init Step"
   ]
  },
  {
   "cell_type": "markdown",
   "metadata": {},
   "source": [
    "## import library"
   ]
  },
  {
   "cell_type": "code",
   "execution_count": 23,
   "metadata": {},
   "outputs": [],
   "source": [
    "import tensorflow as tf\n",
    "import keras as K\n",
    "from keras.preprocessing.image import ImageDataGenerator\n",
    "from pathlib import Path\n",
    "import os\n",
    "import pathlib\n",
    "import utils\n",
    "from sklearn.metrics import confusion_matrix\n",
    "import numpy as np"
   ]
  },
  {
   "cell_type": "markdown",
   "metadata": {},
   "source": [
    "## variables"
   ]
  },
  {
   "cell_type": "code",
   "execution_count": 24,
   "metadata": {},
   "outputs": [],
   "source": [
    "height, width = 224, 224\n",
    "fps = 4\n",
    "n_classes = 9\n",
    "savePath = \"./data/cropHand_fps4/\"\n",
    "splitedFolder = \"color_fps4_splited_dataset\"\n",
    "\n"
   ]
  },
  {
   "cell_type": "markdown",
   "metadata": {},
   "source": [
    "# Preprocessing of images dataset"
   ]
  },
  {
   "cell_type": "code",
   "execution_count": 25,
   "metadata": {},
   "outputs": [
    {
     "name": "stdout",
     "output_type": "stream",
     "text": [
      "current dir: c:\\Users\\mkhung6\\Desktop\\FYP\\handGesture_FYP\\model\n"
     ]
    }
   ],
   "source": [
    "import os\n",
    "cwd = os.getcwd()\n",
    "print(\"current dir: {}\".format(cwd))"
   ]
  },
  {
   "cell_type": "code",
   "execution_count": 26,
   "metadata": {},
   "outputs": [],
   "source": [
    "# directory of the images dataset\n",
    "base_dir = Path('../data')\n",
    "data_dir = base_dir/ splitedFolder\n",
    "train_dir = data_dir/'train'\n",
    "val_dir = data_dir/'val'\n",
    "test_dir = data_dir/'test'\n",
    "\n",
    "# variable for model parameter \n",
    "n_epochs = 11\n",
    "n_train_samples = utils.count_jpgs(train_dir)\n",
    "n_val_samples = utils.count_jpgs(val_dir)\n",
    "batch_size = 32"
   ]
  },
  {
   "cell_type": "code",
   "execution_count": 27,
   "metadata": {},
   "outputs": [
    {
     "name": "stdout",
     "output_type": "stream",
     "text": [
      "Found 7983 images belonging to 9 classes.\n",
      "Found 2663 images belonging to 9 classes.\n",
      "Found 2649 images belonging to 9 classes.\n"
     ]
    }
   ],
   "source": [
    "# data augmentation for the training set\n",
    "train_datagen = ImageDataGenerator(rescale=1./255,\n",
    "                                   width_shift_range=0.1,\n",
    "                                   height_shift_range=0.1,\n",
    "                                   horizontal_flip=False,\n",
    "                                   vertical_flip=False,\n",
    "                                   brightness_range=[0.8, 1.2],\n",
    "                                   fill_mode='nearest')\n",
    "train_generator = train_datagen.flow_from_directory(train_dir, target_size=(height,width))\n",
    "val_generator = train_datagen.flow_from_directory(val_dir, target_size=(height,width))\n",
    "\n",
    "test_datagen = ImageDataGenerator(rescale=1./255) #use the original image for testing\n",
    "test_generator = test_datagen.flow_from_directory(test_dir, target_size=(height,width))"
   ]
  },
  {
   "cell_type": "code",
   "execution_count": 6,
   "metadata": {},
   "outputs": [
    {
     "name": "stdout",
     "output_type": "stream",
     "text": [
      "WARNING:tensorflow:From c:\\Users\\mkhung6\\AppData\\Local\\anaconda3\\envs\\mediapipe\\lib\\site-packages\\keras\\src\\backend.py:1398: The name tf.executing_eagerly_outside_functions is deprecated. Please use tf.compat.v1.executing_eagerly_outside_functions instead.\n",
      "\n",
      "WARNING:tensorflow:From c:\\Users\\mkhung6\\AppData\\Local\\anaconda3\\envs\\mediapipe\\lib\\site-packages\\keras\\src\\layers\\pooling\\max_pooling2d.py:161: The name tf.nn.max_pool is deprecated. Please use tf.nn.max_pool2d instead.\n",
      "\n",
      "per-trained model has been loaded\n",
      "Model: \"vgg16\"\n",
      "_________________________________________________________________\n",
      " Layer (type)                Output Shape              Param #   \n",
      "=================================================================\n",
      " input_1 (InputLayer)        [(None, 224, 224, 3)]     0         \n",
      "                                                                 \n",
      " block1_conv1 (Conv2D)       (None, 224, 224, 64)      1792      \n",
      "                                                                 \n",
      " block1_conv2 (Conv2D)       (None, 224, 224, 64)      36928     \n",
      "                                                                 \n",
      " block1_pool (MaxPooling2D)  (None, 112, 112, 64)      0         \n",
      "                                                                 \n",
      " block2_conv1 (Conv2D)       (None, 112, 112, 128)     73856     \n",
      "                                                                 \n",
      " block2_conv2 (Conv2D)       (None, 112, 112, 128)     147584    \n",
      "                                                                 \n",
      " block2_pool (MaxPooling2D)  (None, 56, 56, 128)       0         \n",
      "                                                                 \n",
      " block3_conv1 (Conv2D)       (None, 56, 56, 256)       295168    \n",
      "                                                                 \n",
      " block3_conv2 (Conv2D)       (None, 56, 56, 256)       590080    \n",
      "                                                                 \n",
      " block3_conv3 (Conv2D)       (None, 56, 56, 256)       590080    \n",
      "                                                                 \n",
      " block3_pool (MaxPooling2D)  (None, 28, 28, 256)       0         \n",
      "                                                                 \n",
      " block4_conv1 (Conv2D)       (None, 28, 28, 512)       1180160   \n",
      "                                                                 \n",
      " block4_conv2 (Conv2D)       (None, 28, 28, 512)       2359808   \n",
      "                                                                 \n",
      " block4_conv3 (Conv2D)       (None, 28, 28, 512)       2359808   \n",
      "                                                                 \n",
      " block4_pool (MaxPooling2D)  (None, 14, 14, 512)       0         \n",
      "                                                                 \n",
      " block5_conv1 (Conv2D)       (None, 14, 14, 512)       2359808   \n",
      "                                                                 \n",
      " block5_conv2 (Conv2D)       (None, 14, 14, 512)       2359808   \n",
      "                                                                 \n",
      " block5_conv3 (Conv2D)       (None, 14, 14, 512)       2359808   \n",
      "                                                                 \n",
      " block5_pool (MaxPooling2D)  (None, 7, 7, 512)         0         \n",
      "                                                                 \n",
      "=================================================================\n",
      "Total params: 14714688 (56.13 MB)\n",
      "Trainable params: 0 (0.00 Byte)\n",
      "Non-trainable params: 14714688 (56.13 MB)\n",
      "_________________________________________________________________\n"
     ]
    }
   ],
   "source": [
    "import utils\n",
    "from keras.applications import VGG16\n",
    "# load pretrained model and weights\n",
    "conv_layers = VGG16(weights = 'imagenet', include_top=False, input_shape=(height,width,3))\n",
    "conv_layers.trainable = False\n",
    "print('per-trained model has been loaded')\n",
    "conv_layers.summary()"
   ]
  },
  {
   "cell_type": "code",
   "execution_count": 7,
   "metadata": {},
   "outputs": [
    {
     "name": "stdout",
     "output_type": "stream",
     "text": [
      "Model: \"sequential\"\n",
      "_________________________________________________________________\n",
      " Layer (type)                Output Shape              Param #   \n",
      "=================================================================\n",
      " vgg16 (Functional)          (None, 7, 7, 512)         14714688  \n",
      "                                                                 \n",
      " flatten (Flatten)           (None, 25088)             0         \n",
      "                                                                 \n",
      " dense (Dense)               (None, 256)               6422784   \n",
      "                                                                 \n",
      " dropout (Dropout)           (None, 256)               0         \n",
      "                                                                 \n",
      " dense_1 (Dense)             (None, 256)               65792     \n",
      "                                                                 \n",
      " dropout_1 (Dropout)         (None, 256)               0         \n",
      "                                                                 \n",
      " dense_2 (Dense)             (None, 9)                 2313      \n",
      "                                                                 \n",
      "=================================================================\n",
      "Total params: 21205577 (80.89 MB)\n",
      "Trainable params: 6490889 (24.76 MB)\n",
      "Non-trainable params: 14714688 (56.13 MB)\n",
      "_________________________________________________________________\n"
     ]
    }
   ],
   "source": [
    "# pretraind model\n",
    "model = K.models.Sequential()\n",
    "model.add(conv_layers)\n",
    "model.add(K.layers.Flatten())\n",
    "\n",
    "# new layers\n",
    "model.add(K.layers.Dense(256, activation='relu')) \n",
    "model.add(K.layers.Dropout(0.5)) # dropout layer to reduce overfitting\n",
    "model.add(K.layers.Dense(256, activation='relu'))\n",
    "model.add(K.layers.Dropout(0.5))\n",
    "\n",
    "model.add(K.layers.Dense(n_classes, activation='softmax'))\n",
    "model.summary()"
   ]
  },
  {
   "cell_type": "code",
   "execution_count": 8,
   "metadata": {},
   "outputs": [
    {
     "name": "stdout",
     "output_type": "stream",
     "text": [
      "WARNING:tensorflow:From c:\\Users\\mkhung6\\AppData\\Local\\anaconda3\\envs\\mediapipe\\lib\\site-packages\\keras\\src\\optimizers\\__init__.py:309: The name tf.train.Optimizer is deprecated. Please use tf.compat.v1.train.Optimizer instead.\n",
      "\n",
      "Epoch 1/11\n",
      "WARNING:tensorflow:From c:\\Users\\mkhung6\\AppData\\Local\\anaconda3\\envs\\mediapipe\\lib\\site-packages\\keras\\src\\utils\\tf_utils.py:492: The name tf.ragged.RaggedTensorValue is deprecated. Please use tf.compat.v1.ragged.RaggedTensorValue instead.\n",
      "\n",
      "WARNING:tensorflow:From c:\\Users\\mkhung6\\AppData\\Local\\anaconda3\\envs\\mediapipe\\lib\\site-packages\\keras\\src\\engine\\base_layer_utils.py:384: The name tf.executing_eagerly_outside_functions is deprecated. Please use tf.compat.v1.executing_eagerly_outside_functions instead.\n",
      "\n",
      "249/249 - 582s - loss: 1.0738 - acc: 0.6260 - val_loss: 0.0402 - val_acc: 0.9944 - 582s/epoch - 2s/step\n",
      "Epoch 2/11\n",
      "249/249 - 574s - loss: 0.4546 - acc: 0.8152 - val_loss: 0.0143 - val_acc: 0.9981 - 574s/epoch - 2s/step\n",
      "Epoch 3/11\n",
      "249/249 - 574s - loss: 0.4182 - acc: 0.8354 - val_loss: 0.0068 - val_acc: 0.9981 - 574s/epoch - 2s/step\n",
      "Epoch 4/11\n",
      "249/249 - 574s - loss: 0.3555 - acc: 0.8564 - val_loss: 0.0140 - val_acc: 0.9966 - 574s/epoch - 2s/step\n",
      "Epoch 5/11\n",
      "249/249 - 575s - loss: 0.3737 - acc: 0.8509 - val_loss: 0.0049 - val_acc: 0.9992 - 575s/epoch - 2s/step\n",
      "Epoch 6/11\n",
      "249/249 - 574s - loss: 0.3517 - acc: 0.8610 - val_loss: 0.0062 - val_acc: 0.9992 - 574s/epoch - 2s/step\n",
      "Epoch 7/11\n",
      "249/249 - 577s - loss: 0.3411 - acc: 0.8658 - val_loss: 0.0046 - val_acc: 0.9996 - 577s/epoch - 2s/step\n",
      "Epoch 8/11\n",
      "249/249 - 572s - loss: 0.3423 - acc: 0.8603 - val_loss: 0.0104 - val_acc: 0.9989 - 572s/epoch - 2s/step\n",
      "Epoch 9/11\n",
      "249/249 - 571s - loss: 0.3291 - acc: 0.8722 - val_loss: 0.0062 - val_acc: 0.9996 - 571s/epoch - 2s/step\n",
      "Epoch 10/11\n",
      "249/249 - 572s - loss: 0.3156 - acc: 0.8725 - val_loss: 0.0042 - val_acc: 0.9996 - 572s/epoch - 2s/step\n",
      "Epoch 11/11\n",
      "249/249 - 572s - loss: 0.3233 - acc: 0.8731 - val_loss: 0.0042 - val_acc: 0.9996 - 572s/epoch - 2s/step\n"
     ]
    }
   ],
   "source": [
    "model.compile(loss='categorical_crossentropy', optimizer='adam', metrics=['acc'])\n",
    "history = model.fit(train_generator,\n",
    "                    steps_per_epoch=n_train_samples/batch_size,\n",
    "                    epochs=n_epochs,\n",
    "                    validation_data=val_generator,\n",
    "                    validation_steps=n_val_samples/batch_size,\n",
    "                    verbose=2,\n",
    "                    shuffle=True,\n",
    "                    )"
   ]
  },
  {
   "cell_type": "code",
   "execution_count": 9,
   "metadata": {},
   "outputs": [
    {
     "name": "stderr",
     "output_type": "stream",
     "text": [
      "c:\\Users\\mkhung6\\AppData\\Local\\anaconda3\\envs\\mediapipe\\lib\\site-packages\\keras\\src\\engine\\training.py:3103: UserWarning: You are saving your model as an HDF5 file via `model.save()`. This file format is considered legacy. We recommend using instead the native Keras format, e.g. `model.save('my_model.keras')`.\n",
      "  saving_api.save_model(\n"
     ]
    }
   ],
   "source": [
    "model.save(splitedFolder + \".h5\")"
   ]
  },
  {
   "cell_type": "markdown",
   "metadata": {},
   "source": [
    "# show the accuracy of the model"
   ]
  },
  {
   "cell_type": "code",
   "execution_count": 14,
   "metadata": {},
   "outputs": [
    {
     "data": {
      "image/png": "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",
      "text/plain": [
       "<Figure size 640x480 with 1 Axes>"
      ]
     },
     "metadata": {},
     "output_type": "display_data"
    },
    {
     "data": {
      "image/png": "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",
      "text/plain": [
       "<Figure size 640x480 with 1 Axes>"
      ]
     },
     "metadata": {},
     "output_type": "display_data"
    }
   ],
   "source": [
    "%matplotlib inline\n",
    "import matplotlib.pyplot as plt\n",
    "\n",
    "acc = history.history['acc']\n",
    "val_acc = history.history['val_acc']\n",
    "loss = history.history['loss']\n",
    "val_loss = history.history['val_loss']\n",
    "epochs = range(len(acc))\n",
    "\n",
    "plt.plot(epochs, acc, label='Training accuracy')\n",
    "plt.plot(epochs, val_acc, label='Validation accuracy')\n",
    "plt.title('Training and validation accuracy')\n",
    "plt.legend()\n",
    "\n",
    "plt.figure()\n",
    "plt.plot(epochs, loss, label='Training loss')\n",
    "plt.plot(epochs, val_loss, label='Validation loss')\n",
    "plt.title('Training and validation loss')\n",
    "plt.legend()\n",
    "\n",
    "plt.show()"
   ]
  },
  {
   "cell_type": "code",
   "execution_count": 44,
   "metadata": {},
   "outputs": [
    {
     "name": "stdout",
     "output_type": "stream",
     "text": [
      "{0: 'ChanDingYin', 1: 'HuoYanYin', 2: 'MiTuoDingYin', 3: 'Retsu', 4: 'Rin', 5: 'TaiJiYin', 6: 'Zai', 7: 'Zen', 8: 'ZhiJiXiangYin'}\n"
     ]
    }
   ],
   "source": [
<<<<<<< HEAD
    "import utils\n",
    "import json\n",
    "class_indices = train_generator.class_indices\n",
    "class_indices = {v: k for k, v in class_indices.items()}\n",
    "print(class_indices)\n",
    "config = {\n",
    "        'indices': class_indices, \n",
    "        'input_size': (height, width)\n",
    "    }\n",
    "fp = splitedFolder + '.json'\n",
    "with open(fp, 'w', encoding='UTF-8') as f:\n",
    "    json.dump(config, f,ensure_ascii=False)"
   ]
  },
  {
   "cell_type": "code",
   "execution_count": 52,
   "metadata": {},
   "outputs": [
    {
     "name": "stdout",
     "output_type": "stream",
     "text": [
      "current dir: c:\\Users\\mkhung6\\Desktop\\FYP\\handGesture_FYP\\model\n",
      "82/82 [==============================] - 133s 2s/step - loss: 0.0019 - acc: 1.0000\n",
      "test acc: 1.0000\n",
      "82/82 [==============================] - 137s 2s/step\n"
     ]
    },
    {
     "ename": "ValueError",
     "evalue": "Classification metrics can't handle a mix of multiclass and continuous-multioutput targets",
     "output_type": "error",
     "traceback": [
      "\u001b[1;31m---------------------------------------------------------------------------\u001b[0m",
      "\u001b[1;31mValueError\u001b[0m                                Traceback (most recent call last)",
      "Cell \u001b[1;32mIn[52], line 20\u001b[0m\n\u001b[0;32m     15\u001b[0m y_pred \u001b[38;5;241m=\u001b[39m model\u001b[38;5;241m.\u001b[39mpredict(test_generator, steps\u001b[38;5;241m=\u001b[39mn_test_set\u001b[38;5;241m/\u001b[39mbatch_size)\n\u001b[0;32m     16\u001b[0m \u001b[38;5;66;03m# # Convert predictions to label indices\u001b[39;00m\n\u001b[0;32m     17\u001b[0m \u001b[38;5;66;03m# y_pred = np.argmax(y_pred, axis=1)\u001b[39;00m\n\u001b[0;32m     18\u001b[0m \n\u001b[0;32m     19\u001b[0m \u001b[38;5;66;03m# Calculate the confusion matrix\u001b[39;00m\n\u001b[1;32m---> 20\u001b[0m cm \u001b[38;5;241m=\u001b[39m \u001b[43mconfusion_matrix\u001b[49m\u001b[43m(\u001b[49m\u001b[43my_true\u001b[49m\u001b[43m,\u001b[49m\u001b[43m \u001b[49m\u001b[43my_pred\u001b[49m\u001b[43m)\u001b[49m\n\u001b[0;32m     22\u001b[0m \u001b[38;5;28mprint\u001b[39m(cm)\n",
      "File \u001b[1;32mc:\\Users\\mkhung6\\AppData\\Local\\anaconda3\\envs\\mediapipe\\lib\\site-packages\\sklearn\\utils\\_param_validation.py:213\u001b[0m, in \u001b[0;36mvalidate_params.<locals>.decorator.<locals>.wrapper\u001b[1;34m(*args, **kwargs)\u001b[0m\n\u001b[0;32m    207\u001b[0m \u001b[38;5;28;01mtry\u001b[39;00m:\n\u001b[0;32m    208\u001b[0m     \u001b[38;5;28;01mwith\u001b[39;00m config_context(\n\u001b[0;32m    209\u001b[0m         skip_parameter_validation\u001b[38;5;241m=\u001b[39m(\n\u001b[0;32m    210\u001b[0m             prefer_skip_nested_validation \u001b[38;5;129;01mor\u001b[39;00m global_skip_validation\n\u001b[0;32m    211\u001b[0m         )\n\u001b[0;32m    212\u001b[0m     ):\n\u001b[1;32m--> 213\u001b[0m         \u001b[38;5;28;01mreturn\u001b[39;00m func(\u001b[38;5;241m*\u001b[39margs, \u001b[38;5;241m*\u001b[39m\u001b[38;5;241m*\u001b[39mkwargs)\n\u001b[0;32m    214\u001b[0m \u001b[38;5;28;01mexcept\u001b[39;00m InvalidParameterError \u001b[38;5;28;01mas\u001b[39;00m e:\n\u001b[0;32m    215\u001b[0m     \u001b[38;5;66;03m# When the function is just a wrapper around an estimator, we allow\u001b[39;00m\n\u001b[0;32m    216\u001b[0m     \u001b[38;5;66;03m# the function to delegate validation to the estimator, but we replace\u001b[39;00m\n\u001b[0;32m    217\u001b[0m     \u001b[38;5;66;03m# the name of the estimator by the name of the function in the error\u001b[39;00m\n\u001b[0;32m    218\u001b[0m     \u001b[38;5;66;03m# message to avoid confusion.\u001b[39;00m\n\u001b[0;32m    219\u001b[0m     msg \u001b[38;5;241m=\u001b[39m re\u001b[38;5;241m.\u001b[39msub(\n\u001b[0;32m    220\u001b[0m         \u001b[38;5;124mr\u001b[39m\u001b[38;5;124m\"\u001b[39m\u001b[38;5;124mparameter of \u001b[39m\u001b[38;5;124m\\\u001b[39m\u001b[38;5;124mw+ must be\u001b[39m\u001b[38;5;124m\"\u001b[39m,\n\u001b[0;32m    221\u001b[0m         \u001b[38;5;124mf\u001b[39m\u001b[38;5;124m\"\u001b[39m\u001b[38;5;124mparameter of \u001b[39m\u001b[38;5;132;01m{\u001b[39;00mfunc\u001b[38;5;241m.\u001b[39m\u001b[38;5;18m__qualname__\u001b[39m\u001b[38;5;132;01m}\u001b[39;00m\u001b[38;5;124m must be\u001b[39m\u001b[38;5;124m\"\u001b[39m,\n\u001b[0;32m    222\u001b[0m         \u001b[38;5;28mstr\u001b[39m(e),\n\u001b[0;32m    223\u001b[0m     )\n",
      "File \u001b[1;32mc:\\Users\\mkhung6\\AppData\\Local\\anaconda3\\envs\\mediapipe\\lib\\site-packages\\sklearn\\metrics\\_classification.py:319\u001b[0m, in \u001b[0;36mconfusion_matrix\u001b[1;34m(y_true, y_pred, labels, sample_weight, normalize)\u001b[0m\n\u001b[0;32m    224\u001b[0m \u001b[38;5;129m@validate_params\u001b[39m(\n\u001b[0;32m    225\u001b[0m     {\n\u001b[0;32m    226\u001b[0m         \u001b[38;5;124m\"\u001b[39m\u001b[38;5;124my_true\u001b[39m\u001b[38;5;124m\"\u001b[39m: [\u001b[38;5;124m\"\u001b[39m\u001b[38;5;124marray-like\u001b[39m\u001b[38;5;124m\"\u001b[39m],\n\u001b[1;32m   (...)\u001b[0m\n\u001b[0;32m    235\u001b[0m     y_true, y_pred, \u001b[38;5;241m*\u001b[39m, labels\u001b[38;5;241m=\u001b[39m\u001b[38;5;28;01mNone\u001b[39;00m, sample_weight\u001b[38;5;241m=\u001b[39m\u001b[38;5;28;01mNone\u001b[39;00m, normalize\u001b[38;5;241m=\u001b[39m\u001b[38;5;28;01mNone\u001b[39;00m\n\u001b[0;32m    236\u001b[0m ):\n\u001b[0;32m    237\u001b[0m \u001b[38;5;250m    \u001b[39m\u001b[38;5;124;03m\"\"\"Compute confusion matrix to evaluate the accuracy of a classification.\u001b[39;00m\n\u001b[0;32m    238\u001b[0m \n\u001b[0;32m    239\u001b[0m \u001b[38;5;124;03m    By definition a confusion matrix :math:`C` is such that :math:`C_{i, j}`\u001b[39;00m\n\u001b[1;32m   (...)\u001b[0m\n\u001b[0;32m    317\u001b[0m \u001b[38;5;124;03m    (0, 2, 1, 1)\u001b[39;00m\n\u001b[0;32m    318\u001b[0m \u001b[38;5;124;03m    \"\"\"\u001b[39;00m\n\u001b[1;32m--> 319\u001b[0m     y_type, y_true, y_pred \u001b[38;5;241m=\u001b[39m \u001b[43m_check_targets\u001b[49m\u001b[43m(\u001b[49m\u001b[43my_true\u001b[49m\u001b[43m,\u001b[49m\u001b[43m \u001b[49m\u001b[43my_pred\u001b[49m\u001b[43m)\u001b[49m\n\u001b[0;32m    320\u001b[0m     \u001b[38;5;28;01mif\u001b[39;00m y_type \u001b[38;5;129;01mnot\u001b[39;00m \u001b[38;5;129;01min\u001b[39;00m (\u001b[38;5;124m\"\u001b[39m\u001b[38;5;124mbinary\u001b[39m\u001b[38;5;124m\"\u001b[39m, \u001b[38;5;124m\"\u001b[39m\u001b[38;5;124mmulticlass\u001b[39m\u001b[38;5;124m\"\u001b[39m):\n\u001b[0;32m    321\u001b[0m         \u001b[38;5;28;01mraise\u001b[39;00m \u001b[38;5;167;01mValueError\u001b[39;00m(\u001b[38;5;124m\"\u001b[39m\u001b[38;5;132;01m%s\u001b[39;00m\u001b[38;5;124m is not supported\u001b[39m\u001b[38;5;124m\"\u001b[39m \u001b[38;5;241m%\u001b[39m y_type)\n",
      "File \u001b[1;32mc:\\Users\\mkhung6\\AppData\\Local\\anaconda3\\envs\\mediapipe\\lib\\site-packages\\sklearn\\metrics\\_classification.py:94\u001b[0m, in \u001b[0;36m_check_targets\u001b[1;34m(y_true, y_pred)\u001b[0m\n\u001b[0;32m     91\u001b[0m     y_type \u001b[38;5;241m=\u001b[39m {\u001b[38;5;124m\"\u001b[39m\u001b[38;5;124mmulticlass\u001b[39m\u001b[38;5;124m\"\u001b[39m}\n\u001b[0;32m     93\u001b[0m \u001b[38;5;28;01mif\u001b[39;00m \u001b[38;5;28mlen\u001b[39m(y_type) \u001b[38;5;241m>\u001b[39m \u001b[38;5;241m1\u001b[39m:\n\u001b[1;32m---> 94\u001b[0m     \u001b[38;5;28;01mraise\u001b[39;00m \u001b[38;5;167;01mValueError\u001b[39;00m(\n\u001b[0;32m     95\u001b[0m         \u001b[38;5;124m\"\u001b[39m\u001b[38;5;124mClassification metrics can\u001b[39m\u001b[38;5;124m'\u001b[39m\u001b[38;5;124mt handle a mix of \u001b[39m\u001b[38;5;132;01m{0}\u001b[39;00m\u001b[38;5;124m and \u001b[39m\u001b[38;5;132;01m{1}\u001b[39;00m\u001b[38;5;124m targets\u001b[39m\u001b[38;5;124m\"\u001b[39m\u001b[38;5;241m.\u001b[39mformat(\n\u001b[0;32m     96\u001b[0m             type_true, type_pred\n\u001b[0;32m     97\u001b[0m         )\n\u001b[0;32m     98\u001b[0m     )\n\u001b[0;32m    100\u001b[0m \u001b[38;5;66;03m# We can't have more than one value on y_type => The set is no more needed\u001b[39;00m\n\u001b[0;32m    101\u001b[0m y_type \u001b[38;5;241m=\u001b[39m y_type\u001b[38;5;241m.\u001b[39mpop()\n",
      "\u001b[1;31mValueError\u001b[0m: Classification metrics can't handle a mix of multiclass and continuous-multioutput targets"
     ]
    }
   ],
   "source": [
    "import numpy as np\n",
    "from sklearn.metrics import confusion_matrix\n",
=======
>>>>>>> da3685a9a999de6bf7aad6eb816b8cf259b52c4f
    "#test the accuracy on test set\n",
    "cwd = os.getcwd()\n",
    "print(\"current dir: {}\".format(cwd))\n",
    "\n",
<<<<<<< HEAD
    "model = tf.keras.models.load_model(splitedFolder+\".h5\")\n",
    "n_test_set = utils.count_jpgs(test_dir)\n",
    "_, test_acc = model.evaluate(test_generator, steps=n_test_set/batch_size)\n",
    "print('test acc: {:.4f}'.format(test_acc))\n",
    "\n",
    "#calculate the confusion matrix of the model on test set\n",
    "y_true = test_generator.classes\n",
    "# Use the model to predict the labels of the test set\n",
    "y_pred = model.predict(test_generator, steps=n_test_set/batch_size)\n",
    "# Convert predictions to label indices\n",
    "y_pred = np.argmax(y_pred, axis=1)\n",
    "\n",
    "# Calculate the confusion matrix\n",
    "cm = confusion_matrix(y_true, y_pred)\n",
    "\n",
    "print(cm)\n",
    "\n"
=======
    "model = tf.keras.models.load_model(savePath)\n",
    "n_test_set = utils.count_jpgs(test_dir)\n",
    "_, test_acc = model.evaluate(test_generator, steps=n_test_set/batch_size)\n",
    "print('test acc: {:.4f}'.format(test_acc))"
>>>>>>> da3685a9a999de6bf7aad6eb816b8cf259b52c4f
   ]
  }
 ],
 "metadata": {
  "kernelspec": {
   "display_name": "Python 3",
   "language": "python",
   "name": "python3"
  },
  "language_info": {
   "codemirror_mode": {
    "name": "ipython",
    "version": 3
   },
   "file_extension": ".py",
   "mimetype": "text/x-python",
   "name": "python",
   "nbconvert_exporter": "python",
   "pygments_lexer": "ipython3",
   "version": "3.9.18"
  }
 },
 "nbformat": 4,
 "nbformat_minor": 2
}
