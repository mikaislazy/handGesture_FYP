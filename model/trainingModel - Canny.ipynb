{
 "cells": [
  {
   "cell_type": "markdown",
   "metadata": {},
   "source": [
    "# Init Step"
   ]
  },
  {
   "cell_type": "markdown",
   "metadata": {},
   "source": [
    "## import library"
   ]
  },
  {
   "cell_type": "code",
   "execution_count": 40,
   "metadata": {},
   "outputs": [],
   "source": [
    "import tensorflow as tf\n",
    "import keras as K\n",
    "from keras.preprocessing.image import ImageDataGenerator\n",
    "from pathlib import Path\n",
    "import os\n",
    "import pathlib\n",
    "import utils"
   ]
  },
  {
   "cell_type": "markdown",
   "metadata": {},
   "source": [
    "## variables"
   ]
  },
  {
   "cell_type": "code",
   "execution_count": 41,
   "metadata": {},
   "outputs": [],
   "source": [
    "height, width = 125, 200\n",
    "fps = 4\n",
    "n_classes = 9\n",
    "# savePath = \"./data/cropHand_fps4/\"\n",
    "splitedFolder = \"canny_fps4_splited_dataset\"\n",
    "\n"
   ]
  },
  {
   "cell_type": "markdown",
   "metadata": {},
   "source": [
    "# Preprocessing of images dataset"
   ]
  },
  {
   "cell_type": "code",
   "execution_count": 42,
   "metadata": {},
   "outputs": [
    {
     "name": "stdout",
     "output_type": "stream",
     "text": [
      "current dir: c:\\Users\\mkhung6\\Desktop\\FYP\\handGesture_FYP\\model\n"
     ]
    }
   ],
   "source": [
    "import os\n",
    "cwd = os.getcwd()\n",
    "print(\"current dir: {}\".format(cwd))"
   ]
  },
  {
   "cell_type": "code",
   "execution_count": 43,
   "metadata": {},
   "outputs": [],
   "source": [
    "# directory of the images dataset\n",
    "base_dir = Path('../data')\n",
    "data_dir = base_dir/ splitedFolder\n",
    "train_dir = data_dir/'train'\n",
    "val_dir = data_dir/'val'\n",
    "test_dir = data_dir/'test'\n",
    "\n",
    "# variable for model parameter \n",
    "n_epochs = 20\n",
    "n_train_samples = utils.count_jpgs(train_dir)\n",
    "n_val_samples = utils.count_jpgs(val_dir)\n",
    "batch_size = 32"
   ]
  },
  {
   "cell_type": "code",
   "execution_count": 44,
   "metadata": {},
   "outputs": [
    {
     "name": "stdout",
     "output_type": "stream",
     "text": [
      "Found 7924 images belonging to 9 classes.\n",
      "Found 2643 images belonging to 9 classes.\n",
      "Found 2630 images belonging to 9 classes.\n"
     ]
    }
   ],
   "source": [
    "# data augmentation for the training set\n",
    "train_datagen = ImageDataGenerator(rescale=1./255,\n",
    "                                   width_shift_range=0.1,\n",
    "                                   height_shift_range=0.1,\n",
    "                                   horizontal_flip=False,\n",
    "                                   vertical_flip=False,\n",
    "                                   brightness_range=[0.8, 1.2],\n",
    "                                   fill_mode='nearest')\n",
    "train_generator = train_datagen.flow_from_directory(train_dir, target_size=(height,width))\n",
    "val_generator = train_datagen.flow_from_directory(val_dir, target_size=(height,width))\n",
    "\n",
    "test_datagen = ImageDataGenerator(rescale=1./255) #use the original image for testing\n",
    "test_generator = test_datagen.flow_from_directory(test_dir, target_size=(height,width))"
   ]
  },
  {
   "cell_type": "code",
   "execution_count": 45,
   "metadata": {},
   "outputs": [
    {
     "name": "stdout",
     "output_type": "stream",
     "text": [
      "per-trained model has been loaded\n",
      "Model: \"vgg16\"\n",
      "_________________________________________________________________\n",
      " Layer (type)                Output Shape              Param #   \n",
      "=================================================================\n",
      " input_5 (InputLayer)        [(None, 125, 200, 3)]     0         \n",
      "                                                                 \n",
      " block1_conv1 (Conv2D)       (None, 125, 200, 64)      1792      \n",
      "                                                                 \n",
      " block1_conv2 (Conv2D)       (None, 125, 200, 64)      36928     \n",
      "                                                                 \n",
      " block1_pool (MaxPooling2D)  (None, 62, 100, 64)       0         \n",
      "                                                                 \n",
      " block2_conv1 (Conv2D)       (None, 62, 100, 128)      73856     \n",
      "                                                                 \n",
      " block2_conv2 (Conv2D)       (None, 62, 100, 128)      147584    \n",
      "                                                                 \n",
      " block2_pool (MaxPooling2D)  (None, 31, 50, 128)       0         \n",
      "                                                                 \n",
      " block3_conv1 (Conv2D)       (None, 31, 50, 256)       295168    \n",
      "                                                                 \n",
      " block3_conv2 (Conv2D)       (None, 31, 50, 256)       590080    \n",
      "                                                                 \n",
      " block3_conv3 (Conv2D)       (None, 31, 50, 256)       590080    \n",
      "                                                                 \n",
      " block3_pool (MaxPooling2D)  (None, 15, 25, 256)       0         \n",
      "                                                                 \n",
      " block4_conv1 (Conv2D)       (None, 15, 25, 512)       1180160   \n",
      "                                                                 \n",
      " block4_conv2 (Conv2D)       (None, 15, 25, 512)       2359808   \n",
      "                                                                 \n",
      " block4_conv3 (Conv2D)       (None, 15, 25, 512)       2359808   \n",
      "                                                                 \n",
      " block4_pool (MaxPooling2D)  (None, 7, 12, 512)        0         \n",
      "                                                                 \n",
      " block5_conv1 (Conv2D)       (None, 7, 12, 512)        2359808   \n",
      "                                                                 \n",
      " block5_conv2 (Conv2D)       (None, 7, 12, 512)        2359808   \n",
      "                                                                 \n",
      " block5_conv3 (Conv2D)       (None, 7, 12, 512)        2359808   \n",
      "                                                                 \n",
      " block5_pool (MaxPooling2D)  (None, 3, 6, 512)         0         \n",
      "                                                                 \n",
      "=================================================================\n",
      "Total params: 14714688 (56.13 MB)\n",
      "Trainable params: 0 (0.00 Byte)\n",
      "Non-trainable params: 14714688 (56.13 MB)\n",
      "_________________________________________________________________\n"
     ]
    }
   ],
   "source": [
    "import utils\n",
    "from keras.applications import VGG16\n",
    "# load pretrained model and weights\n",
    "conv_layers = VGG16(weights = 'imagenet', include_top=False, input_shape=(height,width,3))\n",
    "conv_layers.trainable = False\n",
    "print('per-trained model has been loaded')\n",
    "conv_layers.summary()"
   ]
  },
  {
   "cell_type": "code",
   "execution_count": 46,
   "metadata": {},
   "outputs": [
    {
     "name": "stdout",
     "output_type": "stream",
     "text": [
      "Model: \"sequential_2\"\n",
      "_________________________________________________________________\n",
      " Layer (type)                Output Shape              Param #   \n",
      "=================================================================\n",
      " vgg16 (Functional)          (None, 3, 6, 512)         14714688  \n",
      "                                                                 \n",
      " flatten_2 (Flatten)         (None, 9216)              0         \n",
      "                                                                 \n",
      " dense_6 (Dense)             (None, 2048)              18876416  \n",
      "                                                                 \n",
      " dropout_4 (Dropout)         (None, 2048)              0         \n",
      "                                                                 \n",
      " dense_7 (Dense)             (None, 2048)              4196352   \n",
      "                                                                 \n",
      " dropout_5 (Dropout)         (None, 2048)              0         \n",
      "                                                                 \n",
      " dense_8 (Dense)             (None, 9)                 18441     \n",
      "                                                                 \n",
      "=================================================================\n",
      "Total params: 37805897 (144.22 MB)\n",
      "Trainable params: 23091209 (88.09 MB)\n",
      "Non-trainable params: 14714688 (56.13 MB)\n",
      "_________________________________________________________________\n"
     ]
    }
   ],
   "source": [
    "# pretraind model\n",
    "model = K.models.Sequential()\n",
    "model.add(conv_layers)\n",
    "model.add(K.layers.Flatten())\n",
    "\n",
    "# new layers\n",
    "model.add(K.layers.Dense(2048, activation='relu')) \n",
    "model.add(K.layers.Dropout(0.5)) # dropout layer to reduce overfitting\n",
    "model.add(K.layers.Dense(2048, activation='relu'))\n",
    "model.add(K.layers.Dropout(0.5))\n",
    "\n",
    "model.add(K.layers.Dense(n_classes, activation='softmax'))\n",
    "model.summary()"
   ]
  },
  {
   "cell_type": "code",
   "execution_count": 47,
   "metadata": {},
   "outputs": [
    {
     "name": "stdout",
     "output_type": "stream",
     "text": [
      "Epoch 1/20\n",
      "247/247 - 301s - loss: 0.9822 - acc: 0.6952 - val_loss: 0.1724 - val_acc: 0.9531 - 301s/epoch - 1s/step\n",
      "Epoch 2/20\n",
      "247/247 - 297s - loss: 0.3541 - acc: 0.8791 - val_loss: 0.0820 - val_acc: 0.9818 - 297s/epoch - 1s/step\n",
      "Epoch 3/20\n",
      "247/247 - 297s - loss: 0.3661 - acc: 0.8751 - val_loss: 0.1422 - val_acc: 0.9671 - 297s/epoch - 1s/step\n",
      "Epoch 4/20\n",
      "247/247 - 302s - loss: 0.3590 - acc: 0.8747 - val_loss: 0.1023 - val_acc: 0.9781 - 302s/epoch - 1s/step\n",
      "Epoch 5/20\n",
      "247/247 - 299s - loss: 0.3184 - acc: 0.8907 - val_loss: 0.0357 - val_acc: 0.9943 - 299s/epoch - 1s/step\n",
      "Epoch 6/20\n",
      "247/247 - 299s - loss: 0.2985 - acc: 0.8929 - val_loss: 0.0359 - val_acc: 0.9890 - 299s/epoch - 1s/step\n",
      "Epoch 7/20\n",
      "247/247 - 305s - loss: 0.2872 - acc: 0.8971 - val_loss: 0.0455 - val_acc: 0.9868 - 305s/epoch - 1s/step\n",
      "Epoch 8/20\n",
      "247/247 - 297s - loss: 0.2762 - acc: 0.9030 - val_loss: 0.0440 - val_acc: 0.9883 - 297s/epoch - 1s/step\n",
      "Epoch 9/20\n",
      "247/247 - 300s - loss: 0.2857 - acc: 0.8990 - val_loss: 0.0516 - val_acc: 0.9875 - 300s/epoch - 1s/step\n",
      "Epoch 10/20\n",
      "247/247 - 296s - loss: 0.3180 - acc: 0.8886 - val_loss: 0.0639 - val_acc: 0.9868 - 296s/epoch - 1s/step\n",
      "Epoch 11/20\n",
      "247/247 - 296s - loss: 0.3572 - acc: 0.8773 - val_loss: 0.0868 - val_acc: 0.9852 - 296s/epoch - 1s/step\n",
      "Epoch 12/20\n",
      "247/247 - 297s - loss: 0.3061 - acc: 0.8968 - val_loss: 0.0569 - val_acc: 0.9837 - 297s/epoch - 1s/step\n",
      "Epoch 13/20\n",
      "247/247 - 296s - loss: 0.2747 - acc: 0.9083 - val_loss: 0.0380 - val_acc: 0.9924 - 296s/epoch - 1s/step\n",
      "Epoch 14/20\n",
      "247/247 - 296s - loss: 0.2441 - acc: 0.9197 - val_loss: 0.0432 - val_acc: 0.9898 - 296s/epoch - 1s/step\n",
      "Epoch 15/20\n",
      "247/247 - 297s - loss: 0.2577 - acc: 0.9154 - val_loss: 0.0308 - val_acc: 0.9932 - 297s/epoch - 1s/step\n",
      "Epoch 16/20\n",
      "247/247 - 296s - loss: 0.2784 - acc: 0.9089 - val_loss: 0.0424 - val_acc: 0.9886 - 296s/epoch - 1s/step\n",
      "Epoch 17/20\n",
      "247/247 - 297s - loss: 0.3130 - acc: 0.8965 - val_loss: 0.0695 - val_acc: 0.9860 - 297s/epoch - 1s/step\n",
      "Epoch 18/20\n",
      "247/247 - 297s - loss: 0.2510 - acc: 0.9181 - val_loss: 0.0343 - val_acc: 0.9917 - 297s/epoch - 1s/step\n",
      "Epoch 19/20\n",
      "247/247 - 297s - loss: 0.2409 - acc: 0.9258 - val_loss: 0.0450 - val_acc: 0.9852 - 297s/epoch - 1s/step\n",
      "Epoch 20/20\n",
      "247/247 - 297s - loss: 0.2482 - acc: 0.9242 - val_loss: 0.0174 - val_acc: 0.9962 - 297s/epoch - 1s/step\n"
     ]
    }
   ],
   "source": [
    "model.compile(loss='categorical_crossentropy', optimizer='adam', metrics=['acc'])\n",
    "history = model.fit(train_generator,\n",
    "                    steps_per_epoch=n_train_samples/batch_size,\n",
    "                    epochs=n_epochs,\n",
    "                    validation_data=val_generator,\n",
    "                    validation_steps=n_val_samples/batch_size,\n",
    "                    verbose=2,\n",
    "                    shuffle=True,\n",
    "                    )"
   ]
  },
  {
   "cell_type": "code",
   "execution_count": 48,
   "metadata": {},
   "outputs": [
    {
     "name": "stderr",
     "output_type": "stream",
     "text": [
      "c:\\Users\\mkhung6\\AppData\\Local\\anaconda3\\envs\\mediapipe\\lib\\site-packages\\keras\\src\\engine\\training.py:3103: UserWarning: You are saving your model as an HDF5 file via `model.save()`. This file format is considered legacy. We recommend using instead the native Keras format, e.g. `model.save('my_model.keras')`.\n",
      "  saving_api.save_model(\n"
     ]
    }
   ],
   "source": [
    "model.save(splitedFolder + \".h5\")"
   ]
  },
  {
   "cell_type": "markdown",
   "metadata": {},
   "source": [
    "# show the accuracy of the model"
   ]
  },
  {
   "cell_type": "code",
   "execution_count": 49,
   "metadata": {},
   "outputs": [
    {
     "data": {
      "image/png": "[encoded data removed]",
      "text/plain": [
       "<Figure size 640x480 with 1 Axes>"
      ]
     },
     "metadata": {},
     "output_type": "display_data"
    },
    {
     "data": {
      "image/png": "[encoded data removed]",
      "text/plain": [
       "<Figure size 640x480 with 1 Axes>"
      ]
     },
     "metadata": {},
     "output_type": "display_data"
    }
   ],
   "source": [
    "%matplotlib inline\n",
    "import matplotlib.pyplot as plt\n",
    "\n",
    "acc = history.history['acc']\n",
    "val_acc = history.history['val_acc']\n",
    "loss = history.history['loss']\n",
    "val_loss = history.history['val_loss']\n",
    "epochs = range(len(acc))\n",
    "\n",
    "plt.plot(epochs, acc, label='Training accuracy')\n",
    "plt.plot(epochs, val_acc, label='Validation accuracy')\n",
    "plt.title('Training and validation accuracy')\n",
    "plt.legend()\n",
    "\n",
    "plt.figure()\n",
    "plt.plot(epochs, loss, label='Training loss')\n",
    "plt.plot(epochs, val_loss, label='Validation loss')\n",
    "plt.title('Training and validation loss')\n",
    "plt.legend()\n",
    "\n",
    "plt.show()"
   ]
  },
  {
   "cell_type": "code",
   "execution_count": 50,
   "metadata": {},
   "outputs": [
    {
     "name": "stdout",
     "output_type": "stream",
     "text": [
      "{0: 'ChanDingYin', 1: 'HuoYanYin', 2: 'MiTuoDingYin', 3: 'Retsu', 4: 'Rin', 5: 'TaiJiYin', 6: 'Zai', 7: 'Zen', 8: 'ZhiJiXiangYin'}\n"
     ]
    }
   ],
   "source": [
    "import utils\n",
    "import json\n",
    "class_indices = train_generator.class_indices\n",
    "class_indices = {v: k for k, v in class_indices.items()}\n",
    "print(class_indices)\n",
    "config = {\n",
    "        'indices': class_indices, \n",
    "        'input_size': (height, width)\n",
    "    }\n",
    "fp = splitedFolder + '.json'\n",
    "with open(fp, 'w', encoding='UTF-8') as f:\n",
    "    json.dump(config, f,ensure_ascii=False)"
   ]
  },
  {
   "cell_type": "code",
   "execution_count": 51,
   "metadata": {},
   "outputs": [
    {
     "name": "stdout",
     "output_type": "stream",
     "text": [
      "current dir: c:\\Users\\mkhung6\\Desktop\\FYP\\handGesture_FYP\\model\n",
      "82/82 [==============================] - 66s 797ms/step - loss: 0.0067 - acc: 0.9981\n",
      "test acc: 0.9981\n",
      "82/82 [==============================] - 64s 782ms/step\n",
      "[[27 35 41 37 26 34 37 27 33]\n",
      " [38 48 41 30 30 34 37 42 38]\n",
      " [33 45 38 38 28 41 28 30 47]\n",
      " [30 37 35 27 22 37 18 19 36]\n",
      " [38 29 30 17 18 34 28 16 25]\n",
      " [39 38 45 25 28 49 30 42 46]\n",
      " [20 37 38 33 24 27 28 31 25]\n",
      " [27 38 24 28 29 40 19  9 33]\n",
      " [46 31 37 25 31 46 34 33 36]]\n"
     ]
    }
   ],
   "source": [
    "import numpy as np\n",
    "from sklearn.metrics import confusion_matrix\n",
    "#test the accuracy on test set\n",
    "cwd = os.getcwd()\n",
    "print(\"current dir: {}\".format(cwd))\n",
    "\n",
    "model = tf.keras.models.load_model(splitedFolder+\".h5\")\n",
    "n_test_set = utils.count_jpgs(test_dir)\n",
    "_, test_acc = model.evaluate(test_generator, steps=n_test_set/batch_size)\n",
    "print('test acc: {:.4f}'.format(test_acc))\n",
    "\n",
    "#calculate the confusion matrix of the model on test set\n",
    "y_true = test_generator.classes\n",
    "# Use the model to predict the labels of the test set\n",
    "y_pred = model.predict(test_generator, steps=n_test_set/batch_size)\n",
    "# Convert predictions to label indices\n",
    "y_pred = np.argmax(y_pred, axis=1)\n",
    "\n",
    "# Calculate the confusion matrix of prediction and actual class\n",
    "cm = confusion_matrix(y_true, y_pred)\n",
    "\n",
    "print(cm)\n",
    "\n"
   ]
  },
  {
   "cell_type": "code",
   "execution_count": 52,
   "metadata": {},
   "outputs": [],
   "source": [
    "import utils\n",
    "import json\n",
    "import pandas as pd\n",
    "class_indices = train_generator.class_indices\n",
    "class_indices = {v: k for k, v in class_indices.items()}\n",
    "# hist_df = pd.DataFrame(history.history)\n",
    "\n",
    "config = {\n",
    "        'indices': class_indices, \n",
    "        'input_size': (height, width),\n",
    "        'confusion_matrix': np.array2string(cm),\n",
    "        'test_acc': test_acc,\n",
    "        'history':history.history\n",
    "        \n",
    "    }\n",
    "\n",
    "fp = splitedFolder + '.json'\n",
    "with open(fp, 'w', encoding='UTF-8') as f:\n",
    "    json.dump(config, f,ensure_ascii=False)\n",
    "    # hist_df.to_json(f)\n",
    "    "
   ]
  }
 ],
 "metadata": {
  "kernelspec": {
   "display_name": "Python 3",
   "language": "python",
   "name": "python3"
  },
  "language_info": {
   "codemirror_mode": {
    "name": "ipython",
    "version": 3
   },
   "file_extension": ".py",
   "mimetype": "text/x-python",
   "name": "python",
   "nbconvert_exporter": "python",
   "pygments_lexer": "ipython3",
   "version": "3.9.18"
  }
 },
 "nbformat": 4,
 "nbformat_minor": 2
}
