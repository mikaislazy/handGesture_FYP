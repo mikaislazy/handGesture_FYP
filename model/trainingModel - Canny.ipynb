{
 "cells": [
  {
   "cell_type": "markdown",
   "metadata": {},
   "source": [
    "# Init Step"
   ]
  },
  {
   "cell_type": "markdown",
   "metadata": {},
   "source": [
    "## import library"
   ]
  },
  {
   "cell_type": "code",
   "execution_count": 4,
   "metadata": {},
   "outputs": [],
   "source": [
    "import tensorflow as tf\n",
    "import keras as K\n",
    "from keras.preprocessing.image import ImageDataGenerator\n",
    "from pathlib import Path\n",
    "import os\n",
    "import pathlib\n",
    "import utils"
   ]
  },
  {
   "cell_type": "markdown",
   "metadata": {},
   "source": [
    "## variables"
   ]
  },
  {
   "cell_type": "code",
   "execution_count": 5,
   "metadata": {},
   "outputs": [],
   "source": [
    "height, width = 125, 200\n",
    "fps = 4\n",
    "n_classes = 9\n",
    "# savePath = \"./data/cropHand_fps4/\"\n",
    "splitedFolder = \"canny_fps4_splited_dataset\"\n",
    "\n"
   ]
  },
  {
   "cell_type": "markdown",
   "metadata": {},
   "source": [
    "# Preprocessing of images dataset"
   ]
  },
  {
   "cell_type": "code",
   "execution_count": 6,
   "metadata": {},
   "outputs": [
    {
     "name": "stdout",
     "output_type": "stream",
     "text": [
      "current dir: c:\\Users\\mkhung6\\Desktop\\FYP\\handGesture_FYP\\model\n"
     ]
    }
   ],
   "source": [
    "import os\n",
    "cwd = os.getcwd()\n",
    "print(\"current dir: {}\".format(cwd))"
   ]
  },
  {
   "cell_type": "code",
   "execution_count": 7,
   "metadata": {},
   "outputs": [],
   "source": [
    "# directory of the images dataset\n",
    "base_dir = Path('../data')\n",
    "data_dir = base_dir/ splitedFolder\n",
    "train_dir = data_dir/'train'\n",
    "val_dir = data_dir/'val'\n",
    "test_dir = data_dir/'test'\n",
    "\n",
    "# variable for model parameter \n",
    "n_epochs = 20\n",
    "n_train_samples = utils.count_jpgs(train_dir)\n",
    "n_val_samples = utils.count_jpgs(val_dir)\n",
    "batch_size = 32"
   ]
  },
  {
   "cell_type": "code",
   "execution_count": 9,
   "metadata": {},
   "outputs": [
    {
     "name": "stdout",
     "output_type": "stream",
     "text": [
      "Found 7924 images belonging to 9 classes.\n",
      "Found 2643 images belonging to 9 classes.\n",
      "Found 2630 images belonging to 9 classes.\n"
     ]
    }
   ],
   "source": [
    "# data augmentation for the training set\n",
    "train_datagen = ImageDataGenerator(rescale=1./255,\n",
    "                                   width_shift_range=0.1,\n",
    "                                   height_shift_range=0.1,\n",
    "                                   horizontal_flip=False,\n",
    "                                   vertical_flip=False,\n",
    "                                   brightness_range=[0.8, 1.2],\n",
    "                                   fill_mode='nearest')\n",
    "train_generator = train_datagen.flow_from_directory(train_dir, target_size=(height,width))\n",
    "val_generator = train_datagen.flow_from_directory(val_dir, target_size=(height,width))\n",
    "\n",
    "test_datagen = ImageDataGenerator(rescale=1./255) #use the original image for testing\n",
    "test_generator = test_datagen.flow_from_directory(test_dir, target_size=(height,width))"
   ]
  },
  {
   "cell_type": "code",
   "execution_count": 12,
   "metadata": {},
   "outputs": [
    {
     "name": "stdout",
     "output_type": "stream",
     "text": [
      "per-trained model has been loaded\n",
      "Model: \"vgg16\"\n",
      "_________________________________________________________________\n",
      " Layer (type)                Output Shape              Param #   \n",
      "=================================================================\n",
      " input_3 (InputLayer)        [(None, 125, 200, 3)]     0         \n",
      "                                                                 \n",
      " block1_conv1 (Conv2D)       (None, 125, 200, 64)      1792      \n",
      "                                                                 \n",
      " block1_conv2 (Conv2D)       (None, 125, 200, 64)      36928     \n",
      "                                                                 \n",
      " block1_pool (MaxPooling2D)  (None, 62, 100, 64)       0         \n",
      "                                                                 \n",
      " block2_conv1 (Conv2D)       (None, 62, 100, 128)      73856     \n",
      "                                                                 \n",
      " block2_conv2 (Conv2D)       (None, 62, 100, 128)      147584    \n",
      "                                                                 \n",
      " block2_pool (MaxPooling2D)  (None, 31, 50, 128)       0         \n",
      "                                                                 \n",
      " block3_conv1 (Conv2D)       (None, 31, 50, 256)       295168    \n",
      "                                                                 \n",
      " block3_conv2 (Conv2D)       (None, 31, 50, 256)       590080    \n",
      "                                                                 \n",
      " block3_conv3 (Conv2D)       (None, 31, 50, 256)       590080    \n",
      "                                                                 \n",
      " block3_pool (MaxPooling2D)  (None, 15, 25, 256)       0         \n",
      "                                                                 \n",
      " block4_conv1 (Conv2D)       (None, 15, 25, 512)       1180160   \n",
      "                                                                 \n",
      " block4_conv2 (Conv2D)       (None, 15, 25, 512)       2359808   \n",
      "                                                                 \n",
      " block4_conv3 (Conv2D)       (None, 15, 25, 512)       2359808   \n",
      "                                                                 \n",
      " block4_pool (MaxPooling2D)  (None, 7, 12, 512)        0         \n",
      "                                                                 \n",
      " block5_conv1 (Conv2D)       (None, 7, 12, 512)        2359808   \n",
      "                                                                 \n",
      " block5_conv2 (Conv2D)       (None, 7, 12, 512)        2359808   \n",
      "                                                                 \n",
      " block5_conv3 (Conv2D)       (None, 7, 12, 512)        2359808   \n",
      "                                                                 \n",
      " block5_pool (MaxPooling2D)  (None, 3, 6, 512)         0         \n",
      "                                                                 \n",
      "=================================================================\n",
      "Total params: 14714688 (56.13 MB)\n",
      "Trainable params: 0 (0.00 Byte)\n",
      "Non-trainable params: 14714688 (56.13 MB)\n",
      "_________________________________________________________________\n"
     ]
    }
   ],
   "source": [
    "import utils\n",
    "from keras.applications import VGG16\n",
    "# load pretrained model and weights\n",
    "conv_layers = VGG16(weights = 'imagenet', include_top=False, input_shape=(height,width,3))\n",
    "conv_layers.trainable = False\n",
    "print('per-trained model has been loaded')\n",
    "conv_layers.summary()"
   ]
  },
  {
   "cell_type": "code",
   "execution_count": 13,
   "metadata": {},
   "outputs": [
    {
     "name": "stdout",
     "output_type": "stream",
     "text": [
      "Model: \"sequential\"\n",
      "_________________________________________________________________\n",
      " Layer (type)                Output Shape              Param #   \n",
      "=================================================================\n",
      " vgg16 (Functional)          (None, 3, 6, 512)         14714688  \n",
      "                                                                 \n",
      " flatten (Flatten)           (None, 9216)              0         \n",
      "                                                                 \n",
      " dense (Dense)               (None, 2048)              18876416  \n",
      "                                                                 \n",
      " dropout (Dropout)           (None, 2048)              0         \n",
      "                                                                 \n",
      " dense_1 (Dense)             (None, 2048)              4196352   \n",
      "                                                                 \n",
      " dropout_1 (Dropout)         (None, 2048)              0         \n",
      "                                                                 \n",
      " dense_2 (Dense)             (None, 9)                 18441     \n",
      "                                                                 \n",
      "=================================================================\n",
      "Total params: 37805897 (144.22 MB)\n",
      "Trainable params: 23091209 (88.09 MB)\n",
      "Non-trainable params: 14714688 (56.13 MB)\n",
      "_________________________________________________________________\n"
     ]
    }
   ],
   "source": [
    "# pretraind model\n",
    "model = K.models.Sequential()\n",
    "model.add(conv_layers)\n",
    "model.add(K.layers.Flatten())\n",
    "\n",
    "# new layers\n",
    "model.add(K.layers.Dense(2048, activation='relu')) \n",
    "model.add(K.layers.Dropout(0.5)) # dropout layer to reduce overfitting\n",
    "model.add(K.layers.Dense(2048, activation='relu'))\n",
    "model.add(K.layers.Dropout(0.5))\n",
    "\n",
    "model.add(K.layers.Dense(n_classes, activation='softmax'))\n",
    "model.summary()"
   ]
  },
  {
   "cell_type": "code",
   "execution_count": 14,
   "metadata": {},
   "outputs": [
    {
     "name": "stdout",
     "output_type": "stream",
     "text": [
      "WARNING:tensorflow:From c:\\Users\\mkhung6\\AppData\\Local\\anaconda3\\envs\\mediapipe\\lib\\site-packages\\keras\\src\\optimizers\\__init__.py:309: The name tf.train.Optimizer is deprecated. Please use tf.compat.v1.train.Optimizer instead.\n",
      "\n",
      "Epoch 1/11\n",
      "WARNING:tensorflow:From c:\\Users\\mkhung6\\AppData\\Local\\anaconda3\\envs\\mediapipe\\lib\\site-packages\\keras\\src\\utils\\tf_utils.py:492: The name tf.ragged.RaggedTensorValue is deprecated. Please use tf.compat.v1.ragged.RaggedTensorValue instead.\n",
      "\n",
      "WARNING:tensorflow:From c:\\Users\\mkhung6\\AppData\\Local\\anaconda3\\envs\\mediapipe\\lib\\site-packages\\keras\\src\\engine\\base_layer_utils.py:384: The name tf.executing_eagerly_outside_functions is deprecated. Please use tf.compat.v1.executing_eagerly_outside_functions instead.\n",
      "\n",
      "WARNING:tensorflow:Your input ran out of data; interrupting training. Make sure that your dataset or generator can generate at least `steps_per_epoch * epochs` batches (in this case, 93.09375 batches). You may need to use the repeat() function when building your dataset.\n",
      "247/247 - 295s - loss: 0.9174 - acc: 0.7044 - val_loss: 0.1725 - val_acc: 0.9603 - 295s/epoch - 1s/step\n",
      "Epoch 2/11\n",
      "247/247 - 229s - loss: 0.3474 - acc: 0.8823 - 229s/epoch - 924ms/step\n",
      "Epoch 3/11\n",
      "247/247 - 229s - loss: 0.3478 - acc: 0.8814 - 229s/epoch - 925ms/step\n",
      "Epoch 4/11\n",
      "247/247 - 228s - loss: 0.3594 - acc: 0.8765 - 228s/epoch - 919ms/step\n",
      "Epoch 5/11\n",
      "247/247 - 226s - loss: 0.3490 - acc: 0.8791 - 226s/epoch - 913ms/step\n",
      "Epoch 6/11\n",
      "247/247 - 226s - loss: 0.2587 - acc: 0.9099 - 226s/epoch - 912ms/step\n",
      "Epoch 7/11\n",
      "247/247 - 226s - loss: 0.2897 - acc: 0.8987 - 226s/epoch - 914ms/step\n",
      "Epoch 8/11\n",
      "247/247 - 226s - loss: 0.2775 - acc: 0.9067 - 226s/epoch - 913ms/step\n",
      "Epoch 9/11\n",
      "247/247 - 226s - loss: 0.2528 - acc: 0.9171 - 226s/epoch - 912ms/step\n",
      "Epoch 10/11\n",
      "247/247 - 226s - loss: 0.2151 - acc: 0.9306 - 226s/epoch - 913ms/step\n",
      "Epoch 11/11\n",
      "247/247 - 226s - loss: 0.2163 - acc: 0.9266 - 226s/epoch - 913ms/step\n"
     ]
    }
   ],
   "source": [
    "model.compile(loss='categorical_crossentropy', optimizer='adam', metrics=['acc'])\n",
    "history = model.fit(train_generator,\n",
    "                    steps_per_epoch=n_train_samples/batch_size,\n",
    "                    epochs=n_epochs,\n",
    "                    validation_data=val_generator,\n",
    "                    validation_steps=n_val_samples/batch_size,\n",
    "                    verbose=2,\n",
    "                    shuffle=True,\n",
    "                    )"
   ]
  },
  {
   "cell_type": "code",
   "execution_count": 15,
   "metadata": {},
   "outputs": [
    {
     "name": "stderr",
     "output_type": "stream",
     "text": [
      "c:\\Users\\mkhung6\\AppData\\Local\\anaconda3\\envs\\mediapipe\\lib\\site-packages\\keras\\src\\engine\\training.py:3103: UserWarning: You are saving your model as an HDF5 file via `model.save()`. This file format is considered legacy. We recommend using instead the native Keras format, e.g. `model.save('my_model.keras')`.\n",
      "  saving_api.save_model(\n"
     ]
    }
   ],
   "source": [
    "model.save(splitedFolder + \".h5\")"
   ]
  },
  {
   "cell_type": "markdown",
   "metadata": {},
   "source": [
    "# show the accuracy of the model"
   ]
  },
  {
   "cell_type": "code",
   "execution_count": 16,
   "metadata": {},
   "outputs": [
    {
     "ename": "ValueError",
     "evalue": "x and y must have same first dimension, but have shapes (11,) and (1,)",
     "output_type": "error",
     "traceback": [
      "\u001b[1;31m---------------------------------------------------------------------------\u001b[0m",
      "\u001b[1;31mValueError\u001b[0m                                Traceback (most recent call last)",
      "Cell \u001b[1;32mIn[16], line 11\u001b[0m\n\u001b[0;32m      8\u001b[0m epochs \u001b[38;5;241m=\u001b[39m \u001b[38;5;28mrange\u001b[39m(\u001b[38;5;28mlen\u001b[39m(acc))\n\u001b[0;32m     10\u001b[0m plt\u001b[38;5;241m.\u001b[39mplot(epochs, acc, label\u001b[38;5;241m=\u001b[39m\u001b[38;5;124m'\u001b[39m\u001b[38;5;124mTraining accuracy\u001b[39m\u001b[38;5;124m'\u001b[39m)\n\u001b[1;32m---> 11\u001b[0m \u001b[43mplt\u001b[49m\u001b[38;5;241;43m.\u001b[39;49m\u001b[43mplot\u001b[49m\u001b[43m(\u001b[49m\u001b[43mepochs\u001b[49m\u001b[43m,\u001b[49m\u001b[43m \u001b[49m\u001b[43mval_acc\u001b[49m\u001b[43m,\u001b[49m\u001b[43m \u001b[49m\u001b[43mlabel\u001b[49m\u001b[38;5;241;43m=\u001b[39;49m\u001b[38;5;124;43m'\u001b[39;49m\u001b[38;5;124;43mValidation accuracy\u001b[39;49m\u001b[38;5;124;43m'\u001b[39;49m\u001b[43m)\u001b[49m\n\u001b[0;32m     12\u001b[0m plt\u001b[38;5;241m.\u001b[39mtitle(\u001b[38;5;124m'\u001b[39m\u001b[38;5;124mTraining and validation accuracy\u001b[39m\u001b[38;5;124m'\u001b[39m)\n\u001b[0;32m     13\u001b[0m plt\u001b[38;5;241m.\u001b[39mlegend()\n",
      "File \u001b[1;32mc:\\Users\\mkhung6\\AppData\\Local\\anaconda3\\envs\\mediapipe\\lib\\site-packages\\matplotlib\\pyplot.py:3575\u001b[0m, in \u001b[0;36mplot\u001b[1;34m(scalex, scaley, data, *args, **kwargs)\u001b[0m\n\u001b[0;32m   3567\u001b[0m \u001b[38;5;129m@_copy_docstring_and_deprecators\u001b[39m(Axes\u001b[38;5;241m.\u001b[39mplot)\n\u001b[0;32m   3568\u001b[0m \u001b[38;5;28;01mdef\u001b[39;00m \u001b[38;5;21mplot\u001b[39m(\n\u001b[0;32m   3569\u001b[0m     \u001b[38;5;241m*\u001b[39margs: \u001b[38;5;28mfloat\u001b[39m \u001b[38;5;241m|\u001b[39m ArrayLike \u001b[38;5;241m|\u001b[39m \u001b[38;5;28mstr\u001b[39m,\n\u001b[1;32m   (...)\u001b[0m\n\u001b[0;32m   3573\u001b[0m     \u001b[38;5;241m*\u001b[39m\u001b[38;5;241m*\u001b[39mkwargs,\n\u001b[0;32m   3574\u001b[0m ) \u001b[38;5;241m-\u001b[39m\u001b[38;5;241m>\u001b[39m \u001b[38;5;28mlist\u001b[39m[Line2D]:\n\u001b[1;32m-> 3575\u001b[0m     \u001b[38;5;28;01mreturn\u001b[39;00m gca()\u001b[38;5;241m.\u001b[39mplot(\n\u001b[0;32m   3576\u001b[0m         \u001b[38;5;241m*\u001b[39margs,\n\u001b[0;32m   3577\u001b[0m         scalex\u001b[38;5;241m=\u001b[39mscalex,\n\u001b[0;32m   3578\u001b[0m         scaley\u001b[38;5;241m=\u001b[39mscaley,\n\u001b[0;32m   3579\u001b[0m         \u001b[38;5;241m*\u001b[39m\u001b[38;5;241m*\u001b[39m({\u001b[38;5;124m\"\u001b[39m\u001b[38;5;124mdata\u001b[39m\u001b[38;5;124m\"\u001b[39m: data} \u001b[38;5;28;01mif\u001b[39;00m data \u001b[38;5;129;01mis\u001b[39;00m \u001b[38;5;129;01mnot\u001b[39;00m \u001b[38;5;28;01mNone\u001b[39;00m \u001b[38;5;28;01melse\u001b[39;00m {}),\n\u001b[0;32m   3580\u001b[0m         \u001b[38;5;241m*\u001b[39m\u001b[38;5;241m*\u001b[39mkwargs,\n\u001b[0;32m   3581\u001b[0m     )\n",
      "File \u001b[1;32mc:\\Users\\mkhung6\\AppData\\Local\\anaconda3\\envs\\mediapipe\\lib\\site-packages\\matplotlib\\axes\\_axes.py:1721\u001b[0m, in \u001b[0;36mAxes.plot\u001b[1;34m(self, scalex, scaley, data, *args, **kwargs)\u001b[0m\n\u001b[0;32m   1478\u001b[0m \u001b[38;5;250m\u001b[39m\u001b[38;5;124;03m\"\"\"\u001b[39;00m\n\u001b[0;32m   1479\u001b[0m \u001b[38;5;124;03mPlot y versus x as lines and/or markers.\u001b[39;00m\n\u001b[0;32m   1480\u001b[0m \n\u001b[1;32m   (...)\u001b[0m\n\u001b[0;32m   1718\u001b[0m \u001b[38;5;124;03m(``'green'``) or hex strings (``'#008000'``).\u001b[39;00m\n\u001b[0;32m   1719\u001b[0m \u001b[38;5;124;03m\"\"\"\u001b[39;00m\n\u001b[0;32m   1720\u001b[0m kwargs \u001b[38;5;241m=\u001b[39m cbook\u001b[38;5;241m.\u001b[39mnormalize_kwargs(kwargs, mlines\u001b[38;5;241m.\u001b[39mLine2D)\n\u001b[1;32m-> 1721\u001b[0m lines \u001b[38;5;241m=\u001b[39m [\u001b[38;5;241m*\u001b[39m\u001b[38;5;28mself\u001b[39m\u001b[38;5;241m.\u001b[39m_get_lines(\u001b[38;5;28mself\u001b[39m, \u001b[38;5;241m*\u001b[39margs, data\u001b[38;5;241m=\u001b[39mdata, \u001b[38;5;241m*\u001b[39m\u001b[38;5;241m*\u001b[39mkwargs)]\n\u001b[0;32m   1722\u001b[0m \u001b[38;5;28;01mfor\u001b[39;00m line \u001b[38;5;129;01min\u001b[39;00m lines:\n\u001b[0;32m   1723\u001b[0m     \u001b[38;5;28mself\u001b[39m\u001b[38;5;241m.\u001b[39madd_line(line)\n",
      "File \u001b[1;32mc:\\Users\\mkhung6\\AppData\\Local\\anaconda3\\envs\\mediapipe\\lib\\site-packages\\matplotlib\\axes\\_base.py:303\u001b[0m, in \u001b[0;36m_process_plot_var_args.__call__\u001b[1;34m(self, axes, data, *args, **kwargs)\u001b[0m\n\u001b[0;32m    301\u001b[0m     this \u001b[38;5;241m+\u001b[39m\u001b[38;5;241m=\u001b[39m args[\u001b[38;5;241m0\u001b[39m],\n\u001b[0;32m    302\u001b[0m     args \u001b[38;5;241m=\u001b[39m args[\u001b[38;5;241m1\u001b[39m:]\n\u001b[1;32m--> 303\u001b[0m \u001b[38;5;28;01myield from\u001b[39;00m \u001b[38;5;28;43mself\u001b[39;49m\u001b[38;5;241;43m.\u001b[39;49m\u001b[43m_plot_args\u001b[49m\u001b[43m(\u001b[49m\n\u001b[0;32m    304\u001b[0m \u001b[43m    \u001b[49m\u001b[43maxes\u001b[49m\u001b[43m,\u001b[49m\u001b[43m \u001b[49m\u001b[43mthis\u001b[49m\u001b[43m,\u001b[49m\u001b[43m \u001b[49m\u001b[43mkwargs\u001b[49m\u001b[43m,\u001b[49m\u001b[43m \u001b[49m\u001b[43mambiguous_fmt_datakey\u001b[49m\u001b[38;5;241;43m=\u001b[39;49m\u001b[43mambiguous_fmt_datakey\u001b[49m\u001b[43m)\u001b[49m\n",
      "File \u001b[1;32mc:\\Users\\mkhung6\\AppData\\Local\\anaconda3\\envs\\mediapipe\\lib\\site-packages\\matplotlib\\axes\\_base.py:499\u001b[0m, in \u001b[0;36m_process_plot_var_args._plot_args\u001b[1;34m(self, axes, tup, kwargs, return_kwargs, ambiguous_fmt_datakey)\u001b[0m\n\u001b[0;32m    496\u001b[0m     axes\u001b[38;5;241m.\u001b[39myaxis\u001b[38;5;241m.\u001b[39mupdate_units(y)\n\u001b[0;32m    498\u001b[0m \u001b[38;5;28;01mif\u001b[39;00m x\u001b[38;5;241m.\u001b[39mshape[\u001b[38;5;241m0\u001b[39m] \u001b[38;5;241m!=\u001b[39m y\u001b[38;5;241m.\u001b[39mshape[\u001b[38;5;241m0\u001b[39m]:\n\u001b[1;32m--> 499\u001b[0m     \u001b[38;5;28;01mraise\u001b[39;00m \u001b[38;5;167;01mValueError\u001b[39;00m(\u001b[38;5;124mf\u001b[39m\u001b[38;5;124m\"\u001b[39m\u001b[38;5;124mx and y must have same first dimension, but \u001b[39m\u001b[38;5;124m\"\u001b[39m\n\u001b[0;32m    500\u001b[0m                      \u001b[38;5;124mf\u001b[39m\u001b[38;5;124m\"\u001b[39m\u001b[38;5;124mhave shapes \u001b[39m\u001b[38;5;132;01m{\u001b[39;00mx\u001b[38;5;241m.\u001b[39mshape\u001b[38;5;132;01m}\u001b[39;00m\u001b[38;5;124m and \u001b[39m\u001b[38;5;132;01m{\u001b[39;00my\u001b[38;5;241m.\u001b[39mshape\u001b[38;5;132;01m}\u001b[39;00m\u001b[38;5;124m\"\u001b[39m)\n\u001b[0;32m    501\u001b[0m \u001b[38;5;28;01mif\u001b[39;00m x\u001b[38;5;241m.\u001b[39mndim \u001b[38;5;241m>\u001b[39m \u001b[38;5;241m2\u001b[39m \u001b[38;5;129;01mor\u001b[39;00m y\u001b[38;5;241m.\u001b[39mndim \u001b[38;5;241m>\u001b[39m \u001b[38;5;241m2\u001b[39m:\n\u001b[0;32m    502\u001b[0m     \u001b[38;5;28;01mraise\u001b[39;00m \u001b[38;5;167;01mValueError\u001b[39;00m(\u001b[38;5;124mf\u001b[39m\u001b[38;5;124m\"\u001b[39m\u001b[38;5;124mx and y can be no greater than 2D, but have \u001b[39m\u001b[38;5;124m\"\u001b[39m\n\u001b[0;32m    503\u001b[0m                      \u001b[38;5;124mf\u001b[39m\u001b[38;5;124m\"\u001b[39m\u001b[38;5;124mshapes \u001b[39m\u001b[38;5;132;01m{\u001b[39;00mx\u001b[38;5;241m.\u001b[39mshape\u001b[38;5;132;01m}\u001b[39;00m\u001b[38;5;124m and \u001b[39m\u001b[38;5;132;01m{\u001b[39;00my\u001b[38;5;241m.\u001b[39mshape\u001b[38;5;132;01m}\u001b[39;00m\u001b[38;5;124m\"\u001b[39m)\n",
      "\u001b[1;31mValueError\u001b[0m: x and y must have same first dimension, but have shapes (11,) and (1,)"
     ]
    },
    {
     "data": {
      "image/png": "[encoded data removed]",
      "text/plain": [
       "<Figure size 640x480 with 1 Axes>"
      ]
     },
     "metadata": {},
     "output_type": "display_data"
    }
   ],
   "source": [
    "%matplotlib inline\n",
    "import matplotlib.pyplot as plt\n",
    "\n",
    "acc = history.history['acc']\n",
    "val_acc = history.history['val_acc']\n",
    "loss = history.history['loss']\n",
    "val_loss = history.history['val_loss']\n",
    "epochs = range(len(acc))\n",
    "\n",
    "plt.plot(epochs, acc, label='Training accuracy')\n",
    "plt.plot(epochs, val_acc, label='Validation accuracy')\n",
    "plt.title('Training and validation accuracy')\n",
    "plt.legend()\n",
    "\n",
    "plt.figure()\n",
    "plt.plot(epochs, loss, label='Training loss')\n",
    "plt.plot(epochs, val_loss, label='Validation loss')\n",
    "plt.title('Training and validation loss')\n",
    "plt.legend()\n",
    "\n",
    "plt.show()"
   ]
  },
  {
   "cell_type": "code",
   "execution_count": 44,
   "metadata": {},
   "outputs": [
    {
     "name": "stdout",
     "output_type": "stream",
     "text": [
      "{0: 'ChanDingYin', 1: 'HuoYanYin', 2: 'MiTuoDingYin', 3: 'Retsu', 4: 'Rin', 5: 'TaiJiYin', 6: 'Zai', 7: 'Zen', 8: 'ZhiJiXiangYin'}\n"
     ]
    }
   ],
   "source": [
    "import utils\n",
    "import json\n",
    "class_indices = train_generator.class_indices\n",
    "class_indices = {v: k for k, v in class_indices.items()}\n",
    "print(class_indices)\n",
    "config = {\n",
    "        'indices': class_indices, \n",
    "        'input_size': (height, width)\n",
    "    }\n",
    "fp = splitedFolder + '.json'\n",
    "with open(fp, 'w', encoding='UTF-8') as f:\n",
    "    json.dump(config, f,ensure_ascii=False)"
   ]
  },
  {
   "cell_type": "code",
   "execution_count": 17,
   "metadata": {},
   "outputs": [
    {
     "name": "stdout",
     "output_type": "stream",
     "text": [
      "current dir: c:\\Users\\mkhung6\\Desktop\\FYP\\handGesture_FYP\\model\n",
      "82/82 [==============================] - 66s 803ms/step - loss: 0.0117 - acc: 0.9973\n",
      "test acc: 0.9973\n",
      "82/82 [==============================] - 69s 839ms/step\n",
      "[[30 39 40 22 36 36 32 24 38]\n",
      " [41 36 40 35 27 51 31 34 43]\n",
      " [37 43 36 26 29 54 29 26 48]\n",
      " [33 35 30 33 19 33 24 27 27]\n",
      " [24 28 30 25 18 30 23 27 30]\n",
      " [36 38 38 36 31 48 38 34 43]\n",
      " [40 29 33 29 23 31 31 21 26]\n",
      " [31 39 30 24 26 26 25 24 22]\n",
      " [25 51 50 32 26 39 27 29 40]]\n"
     ]
    }
   ],
   "source": [
    "import numpy as np\n",
    "from sklearn.metrics import confusion_matrix\n",
    "#test the accuracy on test set\n",
    "cwd = os.getcwd()\n",
    "print(\"current dir: {}\".format(cwd))\n",
    "\n",
    "model = tf.keras.models.load_model(splitedFolder+\".h5\")\n",
    "n_test_set = utils.count_jpgs(test_dir)\n",
    "_, test_acc = model.evaluate(test_generator, steps=n_test_set/batch_size)\n",
    "print('test acc: {:.4f}'.format(test_acc))\n",
    "\n",
    "#calculate the confusion matrix of the model on test set\n",
    "y_true = test_generator.classes\n",
    "# Use the model to predict the labels of the test set\n",
    "y_pred = model.predict(test_generator, steps=n_test_set/batch_size)\n",
    "# Convert predictions to label indices\n",
    "y_pred = np.argmax(y_pred, axis=1)\n",
    "\n",
    "# Calculate the confusion matrix of prediction and actual class\n",
    "cm = confusion_matrix(y_true, y_pred)\n",
    "\n",
    "print(cm)\n",
    "\n"
   ]
  },
  {
   "cell_type": "code",
   "execution_count": 21,
   "metadata": {},
   "outputs": [],
   "source": [
    "import utils\n",
    "import json\n",
    "class_indices = train_generator.class_indices\n",
    "class_indices = {v: k for k, v in class_indices.items()}\n",
    "config = {\n",
    "        'indices': class_indices, \n",
    "        'input_size': (height, width),\n",
    "        'confusion_matrix': np.array2string(cm),\n",
    "        'test_acc': test_acc\n",
    "    }\n",
    "fp = splitedFolder + '.json'\n",
    "with open(fp, 'w', encoding='UTF-8') as f:\n",
    "    json.dump(config, f,ensure_ascii=False)"
   ]
  }
 ],
 "metadata": {
  "kernelspec": {
   "display_name": "Python 3",
   "language": "python",
   "name": "python3"
  },
  "language_info": {
   "codemirror_mode": {
    "name": "ipython",
    "version": 3
   },
   "file_extension": ".py",
   "mimetype": "text/x-python",
   "name": "python",
   "nbconvert_exporter": "python",
   "pygments_lexer": "ipython3",
   "version": "3.9.18"
  }
 },
 "nbformat": 4,
 "nbformat_minor": 2
}
